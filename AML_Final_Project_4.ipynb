{
  "nbformat": 4,
  "nbformat_minor": 0,
  "metadata": {
    "colab": {
      "name": "AML_Final_Project_4.ipynb",
      "provenance": [],
      "collapsed_sections": [],
      "toc_visible": true
    },
    "kernelspec": {
      "display_name": "Python 3",
      "name": "python3"
    },
    "language_info": {
      "name": "python"
    }
  },
  "cells": [
    {
      "cell_type": "markdown",
      "metadata": {
        "id": "drra_qw3HOoA"
      },
      "source": [
        "# Final Project: Image classifier for the Brain Tumor Dataset\n",
        "\n",
        "Our goal is to be able to classify if the image of the brain MRI has a brain tumor or not."
      ]
    },
    {
      "cell_type": "code",
      "metadata": {
        "colab": {
          "base_uri": "https://localhost:8080/",
          "height": 35
        },
        "id": "vK7ZKGFFB0z3",
        "outputId": "f1bb9cf3-ef85-44a2-e755-f8cbb3c23675"
      },
      "source": [
        "import tensorflow as tf\n",
        "# check the version\n",
        "tf.__version__"
      ],
      "execution_count": 1,
      "outputs": [
        {
          "output_type": "execute_result",
          "data": {
            "application/vnd.google.colaboratory.intrinsic+json": {
              "type": "string"
            },
            "text/plain": [
              "'2.5.0'"
            ]
          },
          "metadata": {
            "tags": []
          },
          "execution_count": 1
        }
      ]
    },
    {
      "cell_type": "code",
      "metadata": {
        "id": "avBqMFBgMEa8"
      },
      "source": [
        "import tensorflow as tf\n",
        "from scipy.io import loadmat"
      ],
      "execution_count": 2,
      "outputs": []
    },
    {
      "cell_type": "code",
      "metadata": {
        "id": "ZUwE2-1fB38u"
      },
      "source": [
        "from tensorflow.keras.models import Sequential, load_model\n",
        "from tensorflow.keras.layers import Dense, Flatten, BatchNormalization, Dropout, Conv2D, MaxPooling2D \n",
        "from tensorflow.keras import regularizers\n",
        "from tensorflow.keras.callbacks import Callback\n",
        "from tensorflow.keras.callbacks import ModelCheckpoint\n",
        "from tensorflow.keras.preprocessing import image"
      ],
      "execution_count": 3,
      "outputs": []
    },
    {
      "cell_type": "code",
      "metadata": {
        "id": "wXRcphy8B6ce"
      },
      "source": [
        "import os\n",
        "import numpy as np\n",
        "import pandas as pd\n",
        "import matplotlib.pyplot as plt\n",
        "%matplotlib inline"
      ],
      "execution_count": 4,
      "outputs": []
    },
    {
      "cell_type": "code",
      "metadata": {
        "id": "fmjUugTmD852"
      },
      "source": [
        "# import\n",
        "import numpy as np\n",
        "\n",
        "import matplotlib.pyplot as plt\n",
        "import h5py \n",
        "import scipy\n",
        "from PIL import Image\n",
        "from scipy import ndimage\n",
        "#from lr_utils import load_dataset\n",
        "import pandas as pd # data processing, CSV file I/O (e.g. pd.read_csv)\n",
        "%matplotlib inline"
      ],
      "execution_count": 5,
      "outputs": []
    },
    {
      "cell_type": "markdown",
      "metadata": {
        "id": "xR1s6p3nHb2y"
      },
      "source": [
        "## 1. Load and preprocess the dataset\n"
      ]
    },
    {
      "cell_type": "code",
      "metadata": {
        "colab": {
          "base_uri": "https://localhost:8080/"
        },
        "id": "S17gRJ_uB8J5",
        "outputId": "90d9ece8-e3bc-42c0-de58-6f3727596f84"
      },
      "source": [
        "# Run this cell to connect to your Drive folder\n",
        "\n",
        "from google.colab import drive\n",
        "drive.mount('/content/gdrive')"
      ],
      "execution_count": 7,
      "outputs": [
        {
          "output_type": "stream",
          "text": [
            "Drive already mounted at /content/gdrive; to attempt to forcibly remount, call drive.mount(\"/content/gdrive\", force_remount=True).\n"
          ],
          "name": "stdout"
        }
      ]
    },
    {
      "cell_type": "code",
      "metadata": {
        "id": "BgQi27C_DGVD"
      },
      "source": [
        "##copy and paste the lr_utils.py into here to simplify things.\n",
        "\n",
        "    \n",
        "def loadDataset():\n",
        "    train_dataset = h5py.File('gdrive/My Drive/AML - Project/final_file.hdf5', \"r\")\n",
        "    train_set_x_orig = np.array(train_dataset[\"train_img\"][:]) # your train set features\n",
        "    train_set_y_orig = np.array(train_dataset[\"train_labels\"][:]) # your train set labels\n",
        "\n",
        "    test_dataset = h5py.File('gdrive/My Drive/AML - Project/final_file.hdf5', \"r\")\n",
        "    test_set_x_orig = np.array(test_dataset[\"test_img\"][:]) # your test set features\n",
        "    test_set_y_orig = np.array(test_dataset[\"test_labels\"][:]) # your test set labels\n",
        "    \n",
        "    #Also load in the cross validation set \n",
        "    cv_dataset = h5py.File('gdrive/My Drive/AML - Project/final_file.hdf5', \"r\")\n",
        "    cv_set_x_orig = np.array(cv_dataset[\"cv_img\"][:]) # your test set features\n",
        "    cv_set_y_orig = np.array(cv_dataset[\"cv_labels\"][:]) # your test set labels\n",
        "\n",
        "   # classes = np.array(test_dataset[\"list_classes\"][:]) # the list of classes\n",
        "    \n",
        "    train_set_y_orig = train_set_y_orig.reshape((1, train_set_y_orig.shape[0]))\n",
        "    test_set_y_orig = test_set_y_orig.reshape((1, test_set_y_orig.shape[0]))\n",
        "    cv_set_y_orig = cv_set_y_orig.reshape((1, cv_set_y_orig.shape[0]))\n",
        "    \n",
        "    return train_set_x_orig, train_set_y_orig, test_set_x_orig, test_set_y_orig, cv_set_x_orig, cv_set_y_orig"
      ],
      "execution_count": 11,
      "outputs": []
    },
    {
      "cell_type": "code",
      "metadata": {
        "colab": {
          "base_uri": "https://localhost:8080/"
        },
        "id": "sREfS7nfEDI_",
        "outputId": "cce406ad-1e7d-441e-8c06-53f0867f207a"
      },
      "source": [
        "# Loading the data \n",
        "train_X, train_y, test_X, test_y, cv_X, cv_y= loadDataset()\n",
        "print(train_X)"
      ],
      "execution_count": 13,
      "outputs": [
        {
          "output_type": "stream",
          "text": [
            "[[[[  0   0   0]\n",
            "   [  0   0   0]\n",
            "   [  0   0   0]\n",
            "   ...\n",
            "   [  0   0   0]\n",
            "   [  0   0   0]\n",
            "   [  0   0   0]]\n",
            "\n",
            "  [[  0   0   0]\n",
            "   [  0   0   0]\n",
            "   [  0   0   0]\n",
            "   ...\n",
            "   [  0   0   0]\n",
            "   [  0   0   0]\n",
            "   [  0   0   0]]\n",
            "\n",
            "  [[  0   0   0]\n",
            "   [  0   0   0]\n",
            "   [  0   0   0]\n",
            "   ...\n",
            "   [  0   0   0]\n",
            "   [  0   0   0]\n",
            "   [  0   0   0]]\n",
            "\n",
            "  ...\n",
            "\n",
            "  [[  0   0   0]\n",
            "   [  0   0   0]\n",
            "   [  0   0   0]\n",
            "   ...\n",
            "   [  0   0   0]\n",
            "   [  0   0   0]\n",
            "   [  0   0   0]]\n",
            "\n",
            "  [[  0   0   0]\n",
            "   [  0   0   0]\n",
            "   [  0   0   0]\n",
            "   ...\n",
            "   [  0   0   0]\n",
            "   [  0   0   0]\n",
            "   [  0   0   0]]\n",
            "\n",
            "  [[  0   0   0]\n",
            "   [  0   0   0]\n",
            "   [  0   0   0]\n",
            "   ...\n",
            "   [  0   0   0]\n",
            "   [  0   0   0]\n",
            "   [  0   0   0]]]\n",
            "\n",
            "\n",
            " [[[  1   1   1]\n",
            "   [  1   1   1]\n",
            "   [  1   1   1]\n",
            "   ...\n",
            "   [  1   1   1]\n",
            "   [  1   1   1]\n",
            "   [  1   1   1]]\n",
            "\n",
            "  [[  1   1   1]\n",
            "   [  1   1   1]\n",
            "   [  1   1   1]\n",
            "   ...\n",
            "   [  1   1   1]\n",
            "   [  1   1   1]\n",
            "   [  1   1   1]]\n",
            "\n",
            "  [[  1   1   1]\n",
            "   [  1   1   1]\n",
            "   [  1   1   1]\n",
            "   ...\n",
            "   [ 83  83  83]\n",
            "   [243 243 243]\n",
            "   [  2   2   2]]\n",
            "\n",
            "  ...\n",
            "\n",
            "  [[  1   1   1]\n",
            "   [  1   1   1]\n",
            "   [  1   1   1]\n",
            "   ...\n",
            "   [  1   1   1]\n",
            "   [  0   0   0]\n",
            "   [  3   3   3]]\n",
            "\n",
            "  [[  1   1   1]\n",
            "   [  1   1   1]\n",
            "   [  1   1   1]\n",
            "   ...\n",
            "   [  1   1   1]\n",
            "   [  1   1   1]\n",
            "   [  1   1   1]]\n",
            "\n",
            "  [[  1   1   1]\n",
            "   [  1   1   1]\n",
            "   [  1   1   1]\n",
            "   ...\n",
            "   [  1   1   1]\n",
            "   [  1   1   1]\n",
            "   [  1   1   1]]]\n",
            "\n",
            "\n",
            " [[[ 38  38  38]\n",
            "   [ 19  19  19]\n",
            "   [ 16  16  16]\n",
            "   ...\n",
            "   [ 27  27  27]\n",
            "   [ 24  24  24]\n",
            "   [ 42  42  42]]\n",
            "\n",
            "  [[ 20  20  20]\n",
            "   [  7   7   7]\n",
            "   [  7   7   7]\n",
            "   ...\n",
            "   [ 22  22  22]\n",
            "   [  5   5   5]\n",
            "   [ 20  20  20]]\n",
            "\n",
            "  [[ 23  23  23]\n",
            "   [  9   9   9]\n",
            "   [  4   4   4]\n",
            "   ...\n",
            "   [  5   5   5]\n",
            "   [  6   6   6]\n",
            "   [ 19  19  19]]\n",
            "\n",
            "  ...\n",
            "\n",
            "  [[ 23  23  23]\n",
            "   [  1   1   1]\n",
            "   [  5   5   5]\n",
            "   ...\n",
            "   [  0   0   0]\n",
            "   [  0   0   0]\n",
            "   [ 20  20  20]]\n",
            "\n",
            "  [[ 23  23  23]\n",
            "   [  1   1   1]\n",
            "   [  5   5   5]\n",
            "   ...\n",
            "   [  0   0   0]\n",
            "   [  0   0   0]\n",
            "   [ 20  20  20]]\n",
            "\n",
            "  [[ 41  41  41]\n",
            "   [ 23  23  23]\n",
            "   [ 23  23  23]\n",
            "   ...\n",
            "   [ 24  24  24]\n",
            "   [ 21  21  21]\n",
            "   [ 39  39  39]]]\n",
            "\n",
            "\n",
            " ...\n",
            "\n",
            "\n",
            " [[[  0   0   0]\n",
            "   [  0   0   0]\n",
            "   [  0   0   0]\n",
            "   ...\n",
            "   [  0   0   0]\n",
            "   [  0   0   0]\n",
            "   [  0   0   0]]\n",
            "\n",
            "  [[  0   0   0]\n",
            "   [  0   0   0]\n",
            "   [  0   0   0]\n",
            "   ...\n",
            "   [  0   0   0]\n",
            "   [  0   0   0]\n",
            "   [  0   0   0]]\n",
            "\n",
            "  [[  0   0   0]\n",
            "   [  0   0   0]\n",
            "   [  0   0   0]\n",
            "   ...\n",
            "   [  0   0   0]\n",
            "   [  0   0   0]\n",
            "   [  0   0   0]]\n",
            "\n",
            "  ...\n",
            "\n",
            "  [[  0   0   0]\n",
            "   [  0   0   0]\n",
            "   [  0   0   0]\n",
            "   ...\n",
            "   [  0   0   0]\n",
            "   [  0   0   0]\n",
            "   [  0   0   0]]\n",
            "\n",
            "  [[  0   0   0]\n",
            "   [  0   0   0]\n",
            "   [  0   0   0]\n",
            "   ...\n",
            "   [  0   0   0]\n",
            "   [  0   0   0]\n",
            "   [  0   0   0]]\n",
            "\n",
            "  [[  0   0   0]\n",
            "   [  0   0   0]\n",
            "   [  0   0   0]\n",
            "   ...\n",
            "   [  0   0   0]\n",
            "   [  0   0   0]\n",
            "   [  0   0   0]]]\n",
            "\n",
            "\n",
            " [[[  0   0   0]\n",
            "   [  0   0   0]\n",
            "   [  0   0   0]\n",
            "   ...\n",
            "   [  0   0   0]\n",
            "   [  0   0   0]\n",
            "   [  0   0   0]]\n",
            "\n",
            "  [[  0   0   0]\n",
            "   [  0   0   0]\n",
            "   [  0   0   0]\n",
            "   ...\n",
            "   [  0   0   0]\n",
            "   [  0   0   0]\n",
            "   [  0   0   0]]\n",
            "\n",
            "  [[  0   0   0]\n",
            "   [  0   0   0]\n",
            "   [  0   0   0]\n",
            "   ...\n",
            "   [  0   0   0]\n",
            "   [  0   0   0]\n",
            "   [  0   0   0]]\n",
            "\n",
            "  ...\n",
            "\n",
            "  [[  0   0   0]\n",
            "   [  0   0   0]\n",
            "   [  0   0   0]\n",
            "   ...\n",
            "   [  0   0   0]\n",
            "   [  0   0   0]\n",
            "   [  0   0   0]]\n",
            "\n",
            "  [[  0   0   0]\n",
            "   [  0   0   0]\n",
            "   [  0   0   0]\n",
            "   ...\n",
            "   [  0   0   0]\n",
            "   [  0   0   0]\n",
            "   [  0   0   0]]\n",
            "\n",
            "  [[  0   0   0]\n",
            "   [  0   0   0]\n",
            "   [  0   0   0]\n",
            "   ...\n",
            "   [  0   0   0]\n",
            "   [  0   0   0]\n",
            "   [  0   0   0]]]\n",
            "\n",
            "\n",
            " [[[  2   2   2]\n",
            "   [  2   2   2]\n",
            "   [  2   2   2]\n",
            "   ...\n",
            "   [  2   2   2]\n",
            "   [  2   2   2]\n",
            "   [  2   2   2]]\n",
            "\n",
            "  [[  2   2   2]\n",
            "   [  2   2   2]\n",
            "   [  2   2   2]\n",
            "   ...\n",
            "   [  2   2   2]\n",
            "   [  2   2   2]\n",
            "   [  2   2   2]]\n",
            "\n",
            "  [[  2   2   2]\n",
            "   [  2   2   2]\n",
            "   [  2   2   2]\n",
            "   ...\n",
            "   [  2   2   2]\n",
            "   [  2   2   2]\n",
            "   [  2   2   2]]\n",
            "\n",
            "  ...\n",
            "\n",
            "  [[  2   2   2]\n",
            "   [  2   2   2]\n",
            "   [  2   2   2]\n",
            "   ...\n",
            "   [  2   2   2]\n",
            "   [  2   2   2]\n",
            "   [  2   2   2]]\n",
            "\n",
            "  [[  2   2   2]\n",
            "   [  2   2   2]\n",
            "   [  2   2   2]\n",
            "   ...\n",
            "   [  2   2   2]\n",
            "   [  3   3   3]\n",
            "   [  2   2   2]]\n",
            "\n",
            "  [[  2   2   2]\n",
            "   [  2   2   2]\n",
            "   [  2   2   2]\n",
            "   ...\n",
            "   [  2   2   2]\n",
            "   [  3   3   3]\n",
            "   [  2   2   2]]]]\n"
          ],
          "name": "stdout"
        }
      ]
    },
    {
      "cell_type": "code",
      "metadata": {
        "colab": {
          "base_uri": "https://localhost:8080/",
          "height": 285
        },
        "id": "W0LetokOE6zw",
        "outputId": "4c8106be-c441-4b32-d0e2-907a43cda72f"
      },
      "source": [
        "# Example of a picture\n",
        "index = 24\n",
        "plt.imshow(train_X[index])\n",
        "#print (\"y = \" + str(train_set_y[:, index]) + \", it's a '\" + classes[np.squeeze(train_set_y[:, index])].decode(\"utf-8\") +  \"' picture.\")\n",
        "#Feel free also to change the index value and re-run to see other images."
      ],
      "execution_count": 14,
      "outputs": [
        {
          "output_type": "execute_result",
          "data": {
            "text/plain": [
              "<matplotlib.image.AxesImage at 0x7f9c0fc07990>"
            ]
          },
          "metadata": {
            "tags": []
          },
          "execution_count": 14
        },
        {
          "output_type": "display_data",
          "data": {
            "image/png": "[encoded data removed]",
            "text/plain": [
              "<Figure size 432x288 with 1 Axes>"
            ]
          },
          "metadata": {
            "tags": [],
            "needs_background": "light"
          }
        }
      ]
    },
    {
      "cell_type": "code",
      "metadata": {
        "colab": {
          "base_uri": "https://localhost:8080/"
        },
        "id": "CVmgMmEZE8_6",
        "outputId": "a6802ad6-058a-4d5f-88e5-7772bfba1c26"
      },
      "source": [
        "# Find the values below:\n",
        "m_train = train_X.shape[0]\n",
        "m_test = test_X.shape[0]\n",
        "num_px = test_X.shape[1]\n",
        "m_cv =    cv_X.shape[0]\n",
        "\n",
        "##fix the y dimensions\n",
        "train_y = train_y.T\n",
        "test_y = test_y.T\n",
        "cv_y = cv_y.T\n",
        "\n",
        "print (\"Number of training examples: m_train = \" + str(m_train))\n",
        "print (\"Number of testing examples: m_test = \" + str(m_test))\n",
        "print (\"Height/Width of each image: num_px = \" + str(num_px))\n",
        "print (\"Each image is of size: (\" + str(num_px) + \", \" + str(num_px) + \", 3)\")\n",
        "print (\"train_X shape: \" + str(train_X.shape))\n",
        "print (\"train_y shape: \" + str(train_y.shape))\n",
        "print (\"test_X shape: \" + str(test_X.shape))\n",
        "print (\"test_y shape: \" + str(test_y.shape))"
      ],
      "execution_count": 15,
      "outputs": [
        {
          "output_type": "stream",
          "text": [
            "Number of training examples: m_train = 1800\n",
            "Number of testing examples: m_test = 600\n",
            "Height/Width of each image: num_px = 128\n",
            "Each image is of size: (128, 128, 3)\n",
            "train_X shape: (1800, 128, 128, 3)\n",
            "train_y shape: (1800, 1)\n",
            "test_X shape: (600, 128, 128, 3)\n",
            "test_y shape: (600, 1)\n"
          ],
          "name": "stdout"
        }
      ]
    },
    {
      "cell_type": "code",
      "metadata": {
        "id": "MiKQ2m72eLZB"
      },
      "source": [
        "# Rescale the image values so that they lie in between 0 and 1.\n",
        "\n",
        "train_X = train_X / 255.\n",
        "test_X = test_X / 255.\n",
        "cv_X = cv_X / 255."
      ],
      "execution_count": 16,
      "outputs": []
    },
    {
      "cell_type": "code",
      "metadata": {
        "colab": {
          "base_uri": "https://localhost:8080/",
          "height": 285
        },
        "id": "4KoXe3cBE-LI",
        "outputId": "37534dbd-ad87-480f-963d-6370544b8b0d"
      },
      "source": [
        "# Display one of the images\n",
        "\n",
        "i = 0\n",
        "img = train_X[i, : , :]\n",
        "plt.imshow(img)\n",
        "plt.show()\n",
        "print(f\"label: {train_y[i]}\")"
      ],
      "execution_count": 17,
      "outputs": [
        {
          "output_type": "display_data",
          "data": {
            "image/png": "[encoded data removed]",
            "text/plain": [
              "<Figure size 432x288 with 1 Axes>"
            ]
          },
          "metadata": {
            "tags": [],
            "needs_background": "light"
          }
        },
        {
          "output_type": "stream",
          "text": [
            "label: [0]\n"
          ],
          "name": "stdout"
        }
      ]
    },
    {
      "cell_type": "markdown",
      "metadata": {
        "id": "FmJNmPXhZaaJ"
      },
      "source": [
        "#Modeling"
      ]
    },
    {
      "cell_type": "code",
      "metadata": {
        "id": "QjDFnVeJF6xb"
      },
      "source": [
        "# build the model\n",
        "# the input layer with input_shape (28, 28)\n",
        "# one hidden layer, with 64 units, with a relu activation function.\n",
        "# the output layer has 1 unit and uses sigmoid activation because we have binary classification.\n",
        "\n",
        "model = Sequential([\n",
        "                    Conv2D(filters=6, kernel_size=(5,5), strides = (1,1),padding='valid', activation = 'relu', input_shape=(128,128,3)), # note we need 1 in  input_shape=(28,28,1)\n",
        "                    MaxPooling2D(pool_size=(2,2), strides=(2,2), padding='valid'),\n",
        "                    Conv2D(filters=6, kernel_size=(5,5), padding='valid', activation = 'relu'),\n",
        "                    MaxPooling2D(pool_size=(2,2), strides=(2,2), padding='valid'),\n",
        "                    Flatten(),\n",
        "                    Dense(64, activation = 'relu'),\n",
        "                    Dense(1, activation='sigmoid')\n",
        "])"
      ],
      "execution_count": 18,
      "outputs": []
    },
    {
      "cell_type": "code",
      "metadata": {
        "colab": {
          "base_uri": "https://localhost:8080/"
        },
        "id": "RneS_XTfZhp3",
        "outputId": "d1688da5-cb3c-4bec-e427-6c561e487fc3"
      },
      "source": [
        "model.summary()"
      ],
      "execution_count": 19,
      "outputs": [
        {
          "output_type": "stream",
          "text": [
            "Model: \"sequential\"\n",
            "_________________________________________________________________\n",
            "Layer (type)                 Output Shape              Param #   \n",
            "=================================================================\n",
            "conv2d (Conv2D)              (None, 124, 124, 6)       456       \n",
            "_________________________________________________________________\n",
            "max_pooling2d (MaxPooling2D) (None, 62, 62, 6)         0         \n",
            "_________________________________________________________________\n",
            "conv2d_1 (Conv2D)            (None, 58, 58, 6)         906       \n",
            "_________________________________________________________________\n",
            "max_pooling2d_1 (MaxPooling2 (None, 29, 29, 6)         0         \n",
            "_________________________________________________________________\n",
            "flatten (Flatten)            (None, 5046)              0         \n",
            "_________________________________________________________________\n",
            "dense (Dense)                (None, 64)                323008    \n",
            "_________________________________________________________________\n",
            "dense_1 (Dense)              (None, 1)                 65        \n",
            "=================================================================\n",
            "Total params: 324,435\n",
            "Trainable params: 324,435\n",
            "Non-trainable params: 0\n",
            "_________________________________________________________________\n"
          ],
          "name": "stdout"
        }
      ]
    },
    {
      "cell_type": "code",
      "metadata": {
        "id": "2027YozyZid-"
      },
      "source": [
        "# compile the model for binary classfiication. We want to use both recall and the accuracy to \n",
        "#evaluate our model. Recall is especially important because a false negative may cost someone's life,\n",
        "#if we tell them that they don't have a tumor but they actually do have one.\n",
        "opt = tf.keras.optimizers.Adam(learning_rate = 0.005)\n",
        "#recall = tf.keras.metrics.Recall()\n",
        "model.compile(\n",
        "    optimizer = opt,\n",
        "    loss = 'binary_crossentropy', \n",
        "    metrics = [tf.keras.metrics.Recall(), 'binary_accuracy']\n",
        ")\n",
        "\n",
        "\n"
      ],
      "execution_count": 20,
      "outputs": []
    },
    {
      "cell_type": "code",
      "metadata": {
        "id": "a1oMjW2GmUfO"
      },
      "source": [
        "#define checkpoint\n",
        "checkpoint_best_path = 'model_checkpoints_best/checkpoint'\n",
        "checkpoint_best = ModelCheckpoint(filepath=checkpoint_best_path,\n",
        "                             save_freq='epoch',\n",
        "                             save_weights_only=True,\n",
        "                             monitor='val_recall_14',\n",
        "                             save_best_only=True,\n",
        "                             verbose=1)"
      ],
      "execution_count": 21,
      "outputs": []
    },
    {
      "cell_type": "code",
      "metadata": {
        "colab": {
          "base_uri": "https://localhost:8080/"
        },
        "id": "2wkQ-2HGaz6W",
        "outputId": "bd76b8eb-bce1-4ede-e67b-95e3cddf83f0"
      },
      "source": [
        "# fit the model\n",
        "\n",
        "history = model.fit(train_X, train_y, epochs = 5, batch_size = 64, verbose = 2, validation_data = (cv_X, cv_y), callbacks = [checkpoint_best])\n",
        "# epochs = 8: training will make 8 complete passes through the dataset.\n",
        "# batch_size = 256: By default, the batch size is set to 32.\n",
        "# verbose = 2: print only one line per epoch\n",
        "# verbose = 1 (or True): print everything (the defalut)\n",
        "# verbose = 0 (or False): silence the print out\n"
      ],
      "execution_count": 22,
      "outputs": [
        {
          "output_type": "stream",
          "text": [
            "Epoch 1/5\n",
            "29/29 - 26s - loss: 0.6720 - recall: 0.7349 - binary_accuracy: 0.6844 - val_loss: 0.4927 - val_recall: 0.8404 - val_binary_accuracy: 0.7700\n",
            "WARNING:tensorflow:Can save best model only with val_recall_14 available, skipping.\n",
            "Epoch 2/5\n",
            "29/29 - 25s - loss: 0.4449 - recall: 0.8565 - binary_accuracy: 0.7972 - val_loss: 0.3422 - val_recall: 0.7850 - val_binary_accuracy: 0.8550\n",
            "WARNING:tensorflow:Can save best model only with val_recall_14 available, skipping.\n",
            "Epoch 3/5\n",
            "29/29 - 25s - loss: 0.2638 - recall: 0.9069 - binary_accuracy: 0.8933 - val_loss: 0.1790 - val_recall: 0.9577 - val_binary_accuracy: 0.9383\n",
            "WARNING:tensorflow:Can save best model only with val_recall_14 available, skipping.\n",
            "Epoch 4/5\n",
            "29/29 - 25s - loss: 0.1391 - recall: 0.9529 - binary_accuracy: 0.9478 - val_loss: 0.1591 - val_recall: 0.9837 - val_binary_accuracy: 0.9400\n",
            "WARNING:tensorflow:Can save best model only with val_recall_14 available, skipping.\n",
            "Epoch 5/5\n",
            "29/29 - 26s - loss: 0.0828 - recall: 0.9759 - binary_accuracy: 0.9711 - val_loss: 0.1090 - val_recall: 0.9674 - val_binary_accuracy: 0.9617\n",
            "WARNING:tensorflow:Can save best model only with val_recall_14 available, skipping.\n"
          ],
          "name": "stdout"
        }
      ]
    },
    {
      "cell_type": "code",
      "metadata": {
        "colab": {
          "base_uri": "https://localhost:8080/",
          "height": 202
        },
        "id": "DQhcmp7Dfvho",
        "outputId": "f4a0b8ec-496b-4cf2-f0ab-f09d328cef49"
      },
      "source": [
        "# Load the history into a pandas Dataframe\n",
        "\n",
        "df = pd.DataFrame(history.history)\n",
        "df.head()"
      ],
      "execution_count": 23,
      "outputs": [
        {
          "output_type": "execute_result",
          "data": {
            "text/html": [
              "<div>\n",
              "<style scoped>\n",
              "    .dataframe tbody tr th:only-of-type {\n",
              "        vertical-align: middle;\n",
              "    }\n",
              "\n",
              "    .dataframe tbody tr th {\n",
              "        vertical-align: top;\n",
              "    }\n",
              "\n",
              "    .dataframe thead th {\n",
              "        text-align: right;\n",
              "    }\n",
              "</style>\n",
              "<table border=\"1\" class=\"dataframe\">\n",
              "  <thead>\n",
              "    <tr style=\"text-align: right;\">\n",
              "      <th></th>\n",
              "      <th>loss</th>\n",
              "      <th>recall</th>\n",
              "      <th>binary_accuracy</th>\n",
              "      <th>val_loss</th>\n",
              "      <th>val_recall</th>\n",
              "      <th>val_binary_accuracy</th>\n",
              "    </tr>\n",
              "  </thead>\n",
              "  <tbody>\n",
              "    <tr>\n",
              "      <th>0</th>\n",
              "      <td>0.671985</td>\n",
              "      <td>0.734940</td>\n",
              "      <td>0.684444</td>\n",
              "      <td>0.492675</td>\n",
              "      <td>0.840391</td>\n",
              "      <td>0.770000</td>\n",
              "    </tr>\n",
              "    <tr>\n",
              "      <th>1</th>\n",
              "      <td>0.444934</td>\n",
              "      <td>0.856517</td>\n",
              "      <td>0.797222</td>\n",
              "      <td>0.342208</td>\n",
              "      <td>0.785016</td>\n",
              "      <td>0.855000</td>\n",
              "    </tr>\n",
              "    <tr>\n",
              "      <th>2</th>\n",
              "      <td>0.263780</td>\n",
              "      <td>0.906900</td>\n",
              "      <td>0.893333</td>\n",
              "      <td>0.178977</td>\n",
              "      <td>0.957655</td>\n",
              "      <td>0.938333</td>\n",
              "    </tr>\n",
              "    <tr>\n",
              "      <th>3</th>\n",
              "      <td>0.139092</td>\n",
              "      <td>0.952902</td>\n",
              "      <td>0.947778</td>\n",
              "      <td>0.159095</td>\n",
              "      <td>0.983713</td>\n",
              "      <td>0.940000</td>\n",
              "    </tr>\n",
              "    <tr>\n",
              "      <th>4</th>\n",
              "      <td>0.082840</td>\n",
              "      <td>0.975904</td>\n",
              "      <td>0.971111</td>\n",
              "      <td>0.108969</td>\n",
              "      <td>0.967427</td>\n",
              "      <td>0.961667</td>\n",
              "    </tr>\n",
              "  </tbody>\n",
              "</table>\n",
              "</div>"
            ],
            "text/plain": [
              "       loss    recall  ...  val_recall  val_binary_accuracy\n",
              "0  0.671985  0.734940  ...    0.840391             0.770000\n",
              "1  0.444934  0.856517  ...    0.785016             0.855000\n",
              "2  0.263780  0.906900  ...    0.957655             0.938333\n",
              "3  0.139092  0.952902  ...    0.983713             0.940000\n",
              "4  0.082840  0.975904  ...    0.967427             0.961667\n",
              "\n",
              "[5 rows x 6 columns]"
            ]
          },
          "metadata": {
            "tags": []
          },
          "execution_count": 23
        }
      ]
    },
    {
      "cell_type": "markdown",
      "metadata": {
        "id": "REte9qxSwG79"
      },
      "source": [
        "#A Note\n",
        "Our recalls and accuracys are very high, but this is to be expected because the tumor in the MRI picture of the brain is extremely visible."
      ]
    },
    {
      "cell_type": "code",
      "metadata": {
        "colab": {
          "base_uri": "https://localhost:8080/"
        },
        "id": "SebzUnKlpFs6",
        "outputId": "218a0425-dc51-4c74-df35-dd50efbd5ec6"
      },
      "source": [
        "! ls -lh model_checkpoints_best"
      ],
      "execution_count": 24,
      "outputs": [
        {
          "output_type": "stream",
          "text": [
            "ls: cannot access 'model_checkpoints_best': No such file or directory\n"
          ],
          "name": "stdout"
        }
      ]
    },
    {
      "cell_type": "code",
      "metadata": {
        "colab": {
          "base_uri": "https://localhost:8080/",
          "height": 312
        },
        "id": "fVcYvT2wfwXH",
        "outputId": "0118d4e8-e603-4836-942c-ce968fd183d5"
      },
      "source": [
        "# Make a plot for the training loss\n",
        "\n",
        "loss_plot = df.plot(y=\"loss\", title = \"Loss vs. Epochs\", legend=False)\n",
        "loss_plot.set(xlabel=\"Epochs\", ylabel=\"Loss\")"
      ],
      "execution_count": 25,
      "outputs": [
        {
          "output_type": "execute_result",
          "data": {
            "text/plain": [
              "[Text(0, 0.5, 'Loss'), Text(0.5, 0, 'Epochs')]"
            ]
          },
          "metadata": {
            "tags": []
          },
          "execution_count": 25
        },
        {
          "output_type": "display_data",
          "data": {
            "image/png": "[encoded data removed]",
            "text/plain": [
              "<Figure size 432x288 with 1 Axes>"
            ]
          },
          "metadata": {
            "tags": [],
            "needs_background": "light"
          }
        }
      ]
    },
    {
      "cell_type": "code",
      "metadata": {
        "colab": {
          "base_uri": "https://localhost:8080/",
          "height": 312
        },
        "id": "53fxMUOKf8bu",
        "outputId": "a6dc8500-d60f-4d91-bfd3-86f59d0f8601"
      },
      "source": [
        "# Make a plot for the validation loss\n",
        "\n",
        "loss_plot = df.plot(y=\"val_loss\", title = \"Validation Loss vs. Epochs\", legend=False)\n",
        "loss_plot.set(xlabel=\"Epochs\", ylabel=\"Validation Loss\")"
      ],
      "execution_count": 26,
      "outputs": [
        {
          "output_type": "execute_result",
          "data": {
            "text/plain": [
              "[Text(0, 0.5, 'Validation Loss'), Text(0.5, 0, 'Epochs')]"
            ]
          },
          "metadata": {
            "tags": []
          },
          "execution_count": 26
        },
        {
          "output_type": "display_data",
          "data": {
            "image/png": "[encoded data removed]",
            "text/plain": [
              "<Figure size 432x288 with 1 Axes>"
            ]
          },
          "metadata": {
            "tags": [],
            "needs_background": "light"
          }
        }
      ]
    },
    {
      "cell_type": "code",
      "metadata": {
        "colab": {
          "base_uri": "https://localhost:8080/",
          "height": 296
        },
        "id": "X7kZpXBlgAPc",
        "outputId": "8b01528f-c911-4d99-fc23-0f1217ec91c0"
      },
      "source": [
        "# Make a plot for the training binary accuracy\n",
        "\n",
        "accuracy_plot = df.plot(y=\"binary_accuracy\", legend=False)\n",
        "accuracy_plot.set(xlabel=\"Epochs\", ylabel=\"binary_accuracy\")"
      ],
      "execution_count": 27,
      "outputs": [
        {
          "output_type": "execute_result",
          "data": {
            "text/plain": [
              "[Text(0, 0.5, 'binary_accuracy'), Text(0.5, 0, 'Epochs')]"
            ]
          },
          "metadata": {
            "tags": []
          },
          "execution_count": 27
        },
        {
          "output_type": "display_data",
          "data": {
            "image/png": "[encoded data removed]",
            "text/plain": [
              "<Figure size 432x288 with 1 Axes>"
            ]
          },
          "metadata": {
            "tags": [],
            "needs_background": "light"
          }
        }
      ]
    },
    {
      "cell_type": "code",
      "metadata": {
        "colab": {
          "base_uri": "https://localhost:8080/",
          "height": 296
        },
        "id": "HvXAeRlggpmI",
        "outputId": "1054590c-0feb-4e38-a59c-734e041a4ac7"
      },
      "source": [
        "# Make a plot for the validation binary accuracy\n",
        "\n",
        "accuracy_plot = df.plot(y=\"val_binary_accuracy\", legend=False)\n",
        "accuracy_plot.set(xlabel=\"Epochs\", ylabel=\"Validation binary_accuracy\")"
      ],
      "execution_count": 28,
      "outputs": [
        {
          "output_type": "execute_result",
          "data": {
            "text/plain": [
              "[Text(0, 0.5, 'Validation binary_accuracy'), Text(0.5, 0, 'Epochs')]"
            ]
          },
          "metadata": {
            "tags": []
          },
          "execution_count": 28
        },
        {
          "output_type": "display_data",
          "data": {
            "image/png": "[encoded data removed]",
            "text/plain": [
              "<Figure size 432x288 with 1 Axes>"
            ]
          },
          "metadata": {
            "tags": [],
            "needs_background": "light"
          }
        }
      ]
    },
    {
      "cell_type": "code",
      "metadata": {
        "colab": {
          "base_uri": "https://localhost:8080/",
          "height": 583
        },
        "id": "FVJHgJ5Ig0c7",
        "outputId": "7843996e-704e-4682-cff4-a8ff5b6d5a74"
      },
      "source": [
        "# Make a plot for the training recall\n",
        "\n",
        "accuracy_plot = df.plot(y=\"recall_12\", legend=False)\n",
        "accuracy_plot.set(xlabel=\"Epochs\", ylabel=\"training recall\")"
      ],
      "execution_count": 29,
      "outputs": [
        {
          "output_type": "error",
          "ename": "KeyError",
          "evalue": "ignored",
          "traceback": [
            "\u001b[0;31m---------------------------------------------------------------------------\u001b[0m",
            "\u001b[0;31mKeyError\u001b[0m                                  Traceback (most recent call last)",
            "\u001b[0;32m/usr/local/lib/python3.7/dist-packages/pandas/core/indexes/base.py\u001b[0m in \u001b[0;36mget_loc\u001b[0;34m(self, key, method, tolerance)\u001b[0m\n\u001b[1;32m   2897\u001b[0m             \u001b[0;32mtry\u001b[0m\u001b[0;34m:\u001b[0m\u001b[0;34m\u001b[0m\u001b[0;34m\u001b[0m\u001b[0m\n\u001b[0;32m-> 2898\u001b[0;31m                 \u001b[0;32mreturn\u001b[0m \u001b[0mself\u001b[0m\u001b[0;34m.\u001b[0m\u001b[0m_engine\u001b[0m\u001b[0;34m.\u001b[0m\u001b[0mget_loc\u001b[0m\u001b[0;34m(\u001b[0m\u001b[0mcasted_key\u001b[0m\u001b[0;34m)\u001b[0m\u001b[0;34m\u001b[0m\u001b[0;34m\u001b[0m\u001b[0m\n\u001b[0m\u001b[1;32m   2899\u001b[0m             \u001b[0;32mexcept\u001b[0m \u001b[0mKeyError\u001b[0m \u001b[0;32mas\u001b[0m \u001b[0merr\u001b[0m\u001b[0;34m:\u001b[0m\u001b[0;34m\u001b[0m\u001b[0;34m\u001b[0m\u001b[0m\n",
            "\u001b[0;32mpandas/_libs/index.pyx\u001b[0m in \u001b[0;36mpandas._libs.index.IndexEngine.get_loc\u001b[0;34m()\u001b[0m\n",
            "\u001b[0;32mpandas/_libs/index.pyx\u001b[0m in \u001b[0;36mpandas._libs.index.IndexEngine.get_loc\u001b[0;34m()\u001b[0m\n",
            "\u001b[0;32mpandas/_libs/hashtable_class_helper.pxi\u001b[0m in \u001b[0;36mpandas._libs.hashtable.PyObjectHashTable.get_item\u001b[0;34m()\u001b[0m\n",
            "\u001b[0;32mpandas/_libs/hashtable_class_helper.pxi\u001b[0m in \u001b[0;36mpandas._libs.hashtable.PyObjectHashTable.get_item\u001b[0;34m()\u001b[0m\n",
            "\u001b[0;31mKeyError\u001b[0m: 'recall_12'",
            "\nThe above exception was the direct cause of the following exception:\n",
            "\u001b[0;31mKeyError\u001b[0m                                  Traceback (most recent call last)",
            "\u001b[0;32m<ipython-input-29-05a6c2dc53b3>\u001b[0m in \u001b[0;36m<module>\u001b[0;34m()\u001b[0m\n\u001b[1;32m      1\u001b[0m \u001b[0;31m# Make a plot for the training recall\u001b[0m\u001b[0;34m\u001b[0m\u001b[0;34m\u001b[0m\u001b[0;34m\u001b[0m\u001b[0m\n\u001b[1;32m      2\u001b[0m \u001b[0;34m\u001b[0m\u001b[0m\n\u001b[0;32m----> 3\u001b[0;31m \u001b[0maccuracy_plot\u001b[0m \u001b[0;34m=\u001b[0m \u001b[0mdf\u001b[0m\u001b[0;34m.\u001b[0m\u001b[0mplot\u001b[0m\u001b[0;34m(\u001b[0m\u001b[0my\u001b[0m\u001b[0;34m=\u001b[0m\u001b[0;34m\"recall_12\"\u001b[0m\u001b[0;34m,\u001b[0m \u001b[0mlegend\u001b[0m\u001b[0;34m=\u001b[0m\u001b[0;32mFalse\u001b[0m\u001b[0;34m)\u001b[0m\u001b[0;34m\u001b[0m\u001b[0;34m\u001b[0m\u001b[0m\n\u001b[0m\u001b[1;32m      4\u001b[0m \u001b[0maccuracy_plot\u001b[0m\u001b[0;34m.\u001b[0m\u001b[0mset\u001b[0m\u001b[0;34m(\u001b[0m\u001b[0mxlabel\u001b[0m\u001b[0;34m=\u001b[0m\u001b[0;34m\"Epochs\"\u001b[0m\u001b[0;34m,\u001b[0m \u001b[0mylabel\u001b[0m\u001b[0;34m=\u001b[0m\u001b[0;34m\"training recall\"\u001b[0m\u001b[0;34m)\u001b[0m\u001b[0;34m\u001b[0m\u001b[0;34m\u001b[0m\u001b[0m\n",
            "\u001b[0;32m/usr/local/lib/python3.7/dist-packages/pandas/plotting/_core.py\u001b[0m in \u001b[0;36m__call__\u001b[0;34m(self, *args, **kwargs)\u001b[0m\n\u001b[1;32m    933\u001b[0m \u001b[0;34m\u001b[0m\u001b[0m\n\u001b[1;32m    934\u001b[0m                 \u001b[0;31m# don't overwrite\u001b[0m\u001b[0;34m\u001b[0m\u001b[0;34m\u001b[0m\u001b[0;34m\u001b[0m\u001b[0m\n\u001b[0;32m--> 935\u001b[0;31m                 \u001b[0mdata\u001b[0m \u001b[0;34m=\u001b[0m \u001b[0mdata\u001b[0m\u001b[0;34m[\u001b[0m\u001b[0my\u001b[0m\u001b[0;34m]\u001b[0m\u001b[0;34m.\u001b[0m\u001b[0mcopy\u001b[0m\u001b[0;34m(\u001b[0m\u001b[0;34m)\u001b[0m\u001b[0;34m\u001b[0m\u001b[0;34m\u001b[0m\u001b[0m\n\u001b[0m\u001b[1;32m    936\u001b[0m \u001b[0;34m\u001b[0m\u001b[0m\n\u001b[1;32m    937\u001b[0m                 \u001b[0;32mif\u001b[0m \u001b[0misinstance\u001b[0m\u001b[0;34m(\u001b[0m\u001b[0mdata\u001b[0m\u001b[0;34m,\u001b[0m \u001b[0mABCSeries\u001b[0m\u001b[0;34m)\u001b[0m\u001b[0;34m:\u001b[0m\u001b[0;34m\u001b[0m\u001b[0;34m\u001b[0m\u001b[0m\n",
            "\u001b[0;32m/usr/local/lib/python3.7/dist-packages/pandas/core/frame.py\u001b[0m in \u001b[0;36m__getitem__\u001b[0;34m(self, key)\u001b[0m\n\u001b[1;32m   2904\u001b[0m             \u001b[0;32mif\u001b[0m \u001b[0mself\u001b[0m\u001b[0;34m.\u001b[0m\u001b[0mcolumns\u001b[0m\u001b[0;34m.\u001b[0m\u001b[0mnlevels\u001b[0m \u001b[0;34m>\u001b[0m \u001b[0;36m1\u001b[0m\u001b[0;34m:\u001b[0m\u001b[0;34m\u001b[0m\u001b[0;34m\u001b[0m\u001b[0m\n\u001b[1;32m   2905\u001b[0m                 \u001b[0;32mreturn\u001b[0m \u001b[0mself\u001b[0m\u001b[0;34m.\u001b[0m\u001b[0m_getitem_multilevel\u001b[0m\u001b[0;34m(\u001b[0m\u001b[0mkey\u001b[0m\u001b[0;34m)\u001b[0m\u001b[0;34m\u001b[0m\u001b[0;34m\u001b[0m\u001b[0m\n\u001b[0;32m-> 2906\u001b[0;31m             \u001b[0mindexer\u001b[0m \u001b[0;34m=\u001b[0m \u001b[0mself\u001b[0m\u001b[0;34m.\u001b[0m\u001b[0mcolumns\u001b[0m\u001b[0;34m.\u001b[0m\u001b[0mget_loc\u001b[0m\u001b[0;34m(\u001b[0m\u001b[0mkey\u001b[0m\u001b[0;34m)\u001b[0m\u001b[0;34m\u001b[0m\u001b[0;34m\u001b[0m\u001b[0m\n\u001b[0m\u001b[1;32m   2907\u001b[0m             \u001b[0;32mif\u001b[0m \u001b[0mis_integer\u001b[0m\u001b[0;34m(\u001b[0m\u001b[0mindexer\u001b[0m\u001b[0;34m)\u001b[0m\u001b[0;34m:\u001b[0m\u001b[0;34m\u001b[0m\u001b[0;34m\u001b[0m\u001b[0m\n\u001b[1;32m   2908\u001b[0m                 \u001b[0mindexer\u001b[0m \u001b[0;34m=\u001b[0m \u001b[0;34m[\u001b[0m\u001b[0mindexer\u001b[0m\u001b[0;34m]\u001b[0m\u001b[0;34m\u001b[0m\u001b[0;34m\u001b[0m\u001b[0m\n",
            "\u001b[0;32m/usr/local/lib/python3.7/dist-packages/pandas/core/indexes/base.py\u001b[0m in \u001b[0;36mget_loc\u001b[0;34m(self, key, method, tolerance)\u001b[0m\n\u001b[1;32m   2898\u001b[0m                 \u001b[0;32mreturn\u001b[0m \u001b[0mself\u001b[0m\u001b[0;34m.\u001b[0m\u001b[0m_engine\u001b[0m\u001b[0;34m.\u001b[0m\u001b[0mget_loc\u001b[0m\u001b[0;34m(\u001b[0m\u001b[0mcasted_key\u001b[0m\u001b[0;34m)\u001b[0m\u001b[0;34m\u001b[0m\u001b[0;34m\u001b[0m\u001b[0m\n\u001b[1;32m   2899\u001b[0m             \u001b[0;32mexcept\u001b[0m \u001b[0mKeyError\u001b[0m \u001b[0;32mas\u001b[0m \u001b[0merr\u001b[0m\u001b[0;34m:\u001b[0m\u001b[0;34m\u001b[0m\u001b[0;34m\u001b[0m\u001b[0m\n\u001b[0;32m-> 2900\u001b[0;31m                 \u001b[0;32mraise\u001b[0m \u001b[0mKeyError\u001b[0m\u001b[0;34m(\u001b[0m\u001b[0mkey\u001b[0m\u001b[0;34m)\u001b[0m \u001b[0;32mfrom\u001b[0m \u001b[0merr\u001b[0m\u001b[0;34m\u001b[0m\u001b[0;34m\u001b[0m\u001b[0m\n\u001b[0m\u001b[1;32m   2901\u001b[0m \u001b[0;34m\u001b[0m\u001b[0m\n\u001b[1;32m   2902\u001b[0m         \u001b[0;32mif\u001b[0m \u001b[0mtolerance\u001b[0m \u001b[0;32mis\u001b[0m \u001b[0;32mnot\u001b[0m \u001b[0;32mNone\u001b[0m\u001b[0;34m:\u001b[0m\u001b[0;34m\u001b[0m\u001b[0;34m\u001b[0m\u001b[0m\n",
            "\u001b[0;31mKeyError\u001b[0m: 'recall_12'"
          ]
        }
      ]
    },
    {
      "cell_type": "code",
      "metadata": {
        "id": "6wkCsFLChBhH"
      },
      "source": [
        "# Make a plot for the val recall\n",
        "\n",
        "accuracy_plot = df.plot(y='val_recall_12', legend=False)\n",
        "accuracy_plot.set(xlabel=\"Epochs\", ylabel=\"val recall\")"
      ],
      "execution_count": null,
      "outputs": []
    },
    {
      "cell_type": "code",
      "metadata": {
        "id": "hoTrFPTzhMRP"
      },
      "source": [
        "test_loss, test_accuracy, recall = model.evaluate(test_X, test_y)"
      ],
      "execution_count": null,
      "outputs": []
    },
    {
      "cell_type": "markdown",
      "metadata": {
        "id": "XECBTT-aGDyk"
      },
      "source": [
        "Model1"
      ]
    },
    {
      "cell_type": "code",
      "metadata": {
        "id": "a4Ot174RtY5w"
      },
      "source": [
        "\n",
        "cnn_model1 = Sequential([\n",
        "                   Conv2D(filters=6, kernel_size=(5,5), strides = (1,1),padding='valid', activation = 'relu', input_shape=(128,128,3)), # note we need 1 in  input_shape=(28,28,1)\n",
        "                    MaxPooling2D(pool_size=(2,2), strides=(2,2), padding='valid'),\n",
        "                    Conv2D(filters=6, kernel_size=(5,5), strides=(1,1), padding='valid', activation = 'relu'),\n",
        "                    MaxPooling2D(pool_size=(2,2), strides=(2,2), padding='valid'),\n",
        "                    Flatten(),\n",
        "                    Dense(120, activation = 'relu'),\n",
        "                    Dense(84, activation = 'relu'),\n",
        "                    Dense(1, activation='sigmoid')\n",
        "])\n",
        "\n",
        "cnn_model1.summary()\n",
        "\n",
        "opt1 = tf.keras.optimizers.Adam(learning_rate = 0.005)\n",
        "cnn_model1.compile(\n",
        "    optimizer = opt1,\n",
        "    loss = 'binary_crossentropy', \n",
        "    metrics = [tf.keras.metrics.Recall(), 'binary_accuracy']\n",
        ")\n",
        "\n",
        "\n",
        "cnn_checkpoint_path1 = 'model_checkpoints/checkpoint1'\n",
        "cnn_checkpoint1 = ModelCheckpoint(filepath=cnn_checkpoint_path1,\n",
        "                             save_freq='epoch',\n",
        "                             save_weights_only=True,\n",
        "                             save_best_only=True,\n",
        "                             verbose=1)\n",
        "\n",
        "history1 = cnn_model1.fit(train_X, train_y, epochs = 5, batch_size = 64, verbose = 2, validation_data = (cv_X, cv_y), callbacks = [cnn_checkpoint1])\n",
        "\n",
        "# Plot the training and validation accuracy with epoch\n",
        "plt.plot(history1.history['binary_accuracy'])\n",
        "plt.plot(history1.history['val_binary_accuracy'])\n",
        "plt.title('Accuracy vs. epochs')\n",
        "plt.ylabel('Accuracy')\n",
        "plt.xlabel('Epoch')\n",
        "plt.legend(['Training', 'Validation'], loc='upper right')\n",
        "plt.show()\n",
        "\n",
        "# Plot the training and validation loss\n",
        "\n",
        "plt.plot(history1.history['loss'])\n",
        "plt.plot(history1.history['val_loss'])\n",
        "plt.title('Loss vs. epochs')\n",
        "plt.ylabel('Loss')\n",
        "plt.xlabel('Epoch')\n",
        "plt.legend(['Training', 'Validation'], loc='upper right')\n",
        "plt.show()\n",
        "\n",
        "df1 = pd.DataFrame(history1.history)\n",
        "df1.head()\n",
        "\n",
        "test_loss1, test_accuracy1, recall = cnn_model1.evaluate(test_X, test_y)"
      ],
      "execution_count": null,
      "outputs": []
    },
    {
      "cell_type": "code",
      "metadata": {
        "id": "wLJR9KCz2pUt"
      },
      "source": [
        "df1.head()"
      ],
      "execution_count": null,
      "outputs": []
    },
    {
      "cell_type": "markdown",
      "metadata": {
        "id": "iRI0ICnSDvLK"
      },
      "source": [
        "MODEL2"
      ]
    },
    {
      "cell_type": "code",
      "metadata": {
        "id": "F3YjNB8YCt1K"
      },
      "source": [
        "cnn_model2 = Sequential([\n",
        "                   Conv2D(filters=6, kernel_size=(5,5), strides = (1,1),padding='valid', activation = 'relu', input_shape=(128,128,3)), # note we need 1 in  input_shape=(28,28,1)\n",
        "                    MaxPooling2D(pool_size=(2,2), strides=(2,2), padding='valid'),\n",
        "                    Conv2D(filters=6, kernel_size=(5,5), strides=(1,1), padding='valid', activation = 'relu'),\n",
        "                    MaxPooling2D(pool_size=(2,2), strides=(2,2), padding='valid'),\n",
        "                    Conv2D(filters=6, kernel_size=(5,5), strides=(1,1), padding='valid', activation = 'relu'),\n",
        "                    MaxPooling2D(pool_size=(2,2), strides=(2,2), padding='valid'),\n",
        "                    Flatten(),\n",
        "                    Dense(120, activation = 'relu'),\n",
        "                    Dense(84, activation = 'relu'),\n",
        "                    Dense(1, activation='sigmoid')\n",
        "])\n",
        "\n",
        "cnn_model2.summary()\n",
        "\n",
        "# compile the model for binary classfiication. We want to use both recall and the accuracy to \n",
        "#evaluate our model. Recall is especially important because a false negative may cost someone's life,\n",
        "#if we tell them that they don't have a tumor but they actually do have one.\n",
        "opt2 = tf.keras.optimizers.Adam(learning_rate = 0.005)\n",
        "#recall = tf.keras.metrics.Recall()\n",
        "cnn_model2.compile(\n",
        "    optimizer = opt2,\n",
        "    loss = 'binary_crossentropy', \n",
        "    metrics = [tf.keras.metrics.Recall(), 'binary_accuracy']\n",
        ")\n",
        "\n",
        "\n",
        "cnn_checkpoint_path2 = 'model_checkpoints/checkpoint2'\n",
        "cnn_checkpoint2 = ModelCheckpoint(filepath=cnn_checkpoint_path2,\n",
        "                             save_freq='epoch',\n",
        "                             save_weights_only=True,\n",
        "                             save_best_only=True,\n",
        "                             verbose=1)\n",
        "\n",
        "\n",
        "history2 = cnn_model2.fit(train_X, train_y, epochs = 5, batch_size = 64, verbose = 2, validation_data = (cv_X, cv_y), callbacks = [cnn_checkpoint2])\n",
        "\n",
        "# Plot the training and validation accuracy with epoch\n",
        "plt.plot(history2.history['binary_accuracy'])\n",
        "plt.plot(history2.history['val_binary_accuracy'])\n",
        "plt.title('Accuracy vs. epochs')\n",
        "plt.ylabel('Accuracy')\n",
        "plt.xlabel('Epoch')\n",
        "plt.legend(['Training', 'Validation'], loc='upper right')\n",
        "plt.show()\n",
        "\n",
        "# Plot the training and validation loss\n",
        "\n",
        "plt.plot(history2.history['loss'])\n",
        "plt.plot(history2.history['val_loss'])\n",
        "plt.title('Loss vs. epochs')\n",
        "plt.ylabel('Loss')\n",
        "plt.xlabel('Epoch')\n",
        "plt.legend(['Training', 'Validation'], loc='upper right')\n",
        "plt.show()\n",
        "\n",
        "test_loss2, test_accuracy2, recall = cnn_model2.evaluate(test_X, test_y)\n",
        "\n",
        "df2 = pd.DataFrame(history2.history)\n",
        "df2.head()"
      ],
      "execution_count": null,
      "outputs": []
    },
    {
      "cell_type": "markdown",
      "metadata": {
        "id": "2eUwWdy9oynv"
      },
      "source": [
        "Model3"
      ]
    },
    {
      "cell_type": "code",
      "metadata": {
        "id": "I8cxJVpOM3-p"
      },
      "source": [
        "cnn_model3 = Sequential([\n",
        "                   Conv2D(filters=6, kernel_size=(5,5), strides = (1,1),padding='valid', activation = 'relu', input_shape=(128,128,3)), # note we need 1 in  input_shape=(28,28,1)\n",
        "                    MaxPooling2D(pool_size=(2,2), strides=(2,2), padding='valid'),\n",
        "                    Conv2D(filters=6, kernel_size=(5,5), strides=(1,1), padding='valid', activation = 'relu'),\n",
        "                    MaxPooling2D(pool_size=(2,2), strides=(2,2), padding='valid'),\n",
        "                    Flatten(),\n",
        "                    Dense(160, activation = 'relu'),\n",
        "                    Dense(120, activation = 'relu'),\n",
        "                    Dense(1, activation='sigmoid')\n",
        "])\n",
        "\n",
        "cnn_model3.summary()\n",
        "\n",
        "# compile the model for binary classfiication. We want to use both recall and the accuracy to \n",
        "#evaluate our model. Recall is especially important because a false negative may cost someone's life,\n",
        "#if we tell them that they don't have a tumor but they actually do have one.\n",
        "opt3 = tf.keras.optimizers.Adam(learning_rate = 0.005)\n",
        "#recall = tf.keras.metrics.Recall()\n",
        "cnn_model3.compile(\n",
        "    optimizer = opt3,\n",
        "    loss = 'binary_crossentropy', \n",
        "    metrics = [tf.keras.metrics.Recall(), 'binary_accuracy']\n",
        ")\n",
        "\n",
        "\n",
        "cnn_checkpoint_path3 = 'model_checkpoints/checkpoint3'\n",
        "cnn_checkpoint3 = ModelCheckpoint(filepath=cnn_checkpoint_path3,\n",
        "                             save_freq='epoch',\n",
        "                             save_weights_only=True,\n",
        "                             save_best_only=True,\n",
        "                             verbose=1)\n",
        "\n",
        "\n",
        "history3 = cnn_model3.fit(train_X, train_y, epochs = 5, batch_size = 64, verbose = 2, validation_data = (cv_X, cv_y), callbacks = [cnn_checkpoint3])\n",
        "\n",
        "\n",
        "# Plot the training and validation accuracy with epoch\n",
        "plt.plot(history3.history['binary_accuracy'])\n",
        "plt.plot(history3.history['val_binary_accuracy'])\n",
        "plt.title('Accuracy vs. epochs')\n",
        "plt.ylabel('Accuracy')\n",
        "plt.xlabel('Epoch')\n",
        "plt.legend(['Training', 'Validation'], loc='upper right')\n",
        "plt.show()\n",
        "\n",
        "# Plot the training and validation loss\n",
        "\n",
        "plt.plot(history3.history['loss'])\n",
        "plt.plot(history3.history['val_loss'])\n",
        "plt.title('Loss vs. epochs')\n",
        "plt.ylabel('Loss')\n",
        "plt.xlabel('Epoch')\n",
        "plt.legend(['Training', 'Validation'], loc='upper right')\n",
        "plt.show()\n",
        "\n",
        "test_loss3, test_accuracy3, recall = cnn_model3.evaluate(test_X, test_y)\n",
        "\n",
        "df3 = pd.DataFrame(history3.history)\n",
        "df3.head()"
      ],
      "execution_count": null,
      "outputs": []
    },
    {
      "cell_type": "markdown",
      "metadata": {
        "id": "DlqDcNNSPkdJ"
      },
      "source": [
        "Model4"
      ]
    },
    {
      "cell_type": "code",
      "metadata": {
        "id": "HvmKb_KQPi4M"
      },
      "source": [
        "cnn_model4 = Sequential([\n",
        "                   Conv2D(filters=6, kernel_size=(5,5), strides = (1,1),padding='valid', activation = 'relu', input_shape=(128,128,3)), # note we need 1 in  input_shape=(28,28,1)\n",
        "                    MaxPooling2D(pool_size=(2,2), strides=(2,2), padding='valid'),\n",
        "                    Conv2D(filters=6, kernel_size=(5,5), strides=(1,1), padding='valid', activation = 'relu'),\n",
        "                    MaxPooling2D(pool_size=(2,2), strides=(2,2), padding='valid'),\n",
        "                    Flatten(),\n",
        "                    Dense(84, activation = 'relu'),\n",
        "                    Dense(56, activation = 'relu'),\n",
        "                    Dense(1, activation='sigmoid')\n",
        "])\n",
        "\n",
        "cnn_model4.summary()\n",
        "\n",
        "# compile the model for binary classfiication. We want to use both recall and the accuracy to \n",
        "#evaluate our model. Recall is especially important because a false negative may cost someone's life,\n",
        "#if we tell them that they don't have a tumor but they actually do have one.\n",
        "opt4 = tf.keras.optimizers.Adam(learning_rate = 0.005)\n",
        "#recall = tf.keras.metrics.Recall()\n",
        "cnn_model4.compile(\n",
        "    optimizer = opt4,\n",
        "    loss = 'binary_crossentropy', \n",
        "    metrics = [tf.keras.metrics.Recall(), 'binary_accuracy']\n",
        ")\n",
        "\n",
        "\n",
        "cnn_checkpoint_path4 = 'model_checkpoints/checkpoint4'\n",
        "cnn_checkpoint4 = ModelCheckpoint(filepath=cnn_checkpoint_path4,\n",
        "                             save_freq='epoch',\n",
        "                             save_weights_only=True,\n",
        "                             save_best_only=True,\n",
        "                             verbose=1)\n",
        "\n",
        "\n",
        "history4 = cnn_model4.fit(train_X, train_y, epochs = 5, batch_size = 64, verbose = 2, validation_data = (cv_X, cv_y), callbacks = [cnn_checkpoint4])\n",
        "\n",
        "\n",
        "# Plot the training and validation accuracy with epoch\n",
        "plt.plot(history4.history['binary_accuracy'])\n",
        "plt.plot(history4.history['val_binary_accuracy'])\n",
        "plt.title('Accuracy vs. epochs')\n",
        "plt.ylabel('Accuracy')\n",
        "plt.xlabel('Epoch')\n",
        "plt.legend(['Training', 'Validation'], loc='upper right')\n",
        "plt.show()\n",
        "\n",
        "# Plot the training and validation loss\n",
        "\n",
        "plt.plot(history4.history['loss'])\n",
        "plt.plot(history4.history['val_loss'])\n",
        "plt.title('Loss vs. epochs')\n",
        "plt.ylabel('Loss')\n",
        "plt.xlabel('Epoch')\n",
        "plt.legend(['Training', 'Validation'], loc='upper right')\n",
        "plt.show()\n",
        "\n",
        "\n",
        "test_loss4, test_accuracy4, recall = cnn_model4.evaluate(test_X, test_y)\n",
        "\n",
        "df4 = pd.DataFrame(history4.history)\n",
        "df4.head()"
      ],
      "execution_count": null,
      "outputs": []
    },
    {
      "cell_type": "markdown",
      "metadata": {
        "id": "8Q5QCTZQVHLK"
      },
      "source": [
        "Model5"
      ]
    },
    {
      "cell_type": "code",
      "metadata": {
        "id": "jKcOqI7lVJ5i"
      },
      "source": [
        "cnn_model5 = Sequential([\n",
        "                   Conv2D(filters=6, kernel_size=(5,5), strides = (1,1),padding='valid', activation = 'relu', input_shape=(128,128,3)), # note we need 1 in  input_shape=(28,28,1)\n",
        "                    MaxPooling2D(pool_size=(2,2), strides=(2,2), padding='valid'),\n",
        "                    Conv2D(filters=6, kernel_size=(5,5), strides=(1,1), padding='valid', activation = 'relu'),\n",
        "                    MaxPooling2D(pool_size=(2,2), strides=(2,2), padding='valid'),\n",
        "                    Flatten(),\n",
        "                    Dense(64, activation = 'relu'),\n",
        "                    Dense(36, activation = 'relu'),\n",
        "                    Dense(1, activation='sigmoid')\n",
        "])\n",
        "\n",
        "cnn_model5.summary()\n",
        "\n",
        "# compile the model for binary classfiication. We want to use both recall and the accuracy to \n",
        "#evaluate our model. Recall is especially important because a false negative may cost someone's life,\n",
        "#if we tell them that they don't have a tumor but they actually do have one.\n",
        "opt5 = tf.keras.optimizers.Adam(learning_rate = 0.005)\n",
        "#recall = tf.keras.metrics.Recall()\n",
        "cnn_model5.compile(\n",
        "    optimizer = opt5,\n",
        "    loss = 'binary_crossentropy', \n",
        "    metrics = [tf.keras.metrics.Recall(), 'binary_accuracy']\n",
        ")\n",
        "\n",
        "\n",
        "cnn_checkpoint_path5 = 'model_checkpoints/checkpoint5'\n",
        "cnn_checkpoint5 = ModelCheckpoint(filepath=cnn_checkpoint_path5,\n",
        "                             save_freq='epoch',\n",
        "                             save_weights_only=True,\n",
        "                             save_best_only=True,\n",
        "                             verbose=1)\n",
        "\n",
        "\n",
        "history5 = cnn_model5.fit(train_X, train_y, epochs = 5, batch_size = 64, verbose = 2, validation_data = (cv_X, cv_y), callbacks = [cnn_checkpoint5])\n",
        "\n",
        "\n",
        "# Plot the training and validation accuracy with epoch\n",
        "plt.plot(history5.history['binary_accuracy'])\n",
        "plt.plot(history5.history['val_binary_accuracy'])\n",
        "plt.title('Accuracy vs. epochs')\n",
        "plt.ylabel('Accuracy')\n",
        "plt.xlabel('Epoch')\n",
        "plt.legend(['Training', 'Validation'], loc='upper right')\n",
        "plt.show()\n",
        "\n",
        "# Plot the training and validation loss\n",
        "\n",
        "plt.plot(history5.history['loss'])\n",
        "plt.plot(history5.history['val_loss'])\n",
        "plt.title('Loss vs. epochs')\n",
        "plt.ylabel('Loss')\n",
        "plt.xlabel('Epoch')\n",
        "plt.legend(['Training', 'Validation'], loc='upper right')\n",
        "plt.show()\n",
        "\n",
        "\n",
        "test_loss5, test_accuracy5, recall = cnn_model5.evaluate(test_X, test_y)\n",
        "\n",
        "df5 = pd.DataFrame(history5.history)\n",
        "df5.head()"
      ],
      "execution_count": null,
      "outputs": []
    },
    {
      "cell_type": "markdown",
      "metadata": {
        "id": "mPZGnsHSW-Wh"
      },
      "source": [
        "Model6"
      ]
    },
    {
      "cell_type": "code",
      "metadata": {
        "id": "DzdVI40LW_xF"
      },
      "source": [
        "cnn_model6 = Sequential([\n",
        "                   Conv2D(filters=6, kernel_size=(5,5), strides = (1,1),padding='valid', activation = 'relu', input_shape=(128,128,3)), # note we need 1 in  input_shape=(28,28,1)\n",
        "                    MaxPooling2D(pool_size=(2,2), strides=(2,2), padding='valid'),\n",
        "                    Conv2D(filters=4, kernel_size=(5,5), strides=(1,1), padding='valid', activation = 'relu'),\n",
        "                    MaxPooling2D(pool_size=(2,2), strides=(2,2), padding='valid'),\n",
        "                    Flatten(),\n",
        "                    Dense(64, activation = 'relu'),\n",
        "                    Dense(36, activation = 'relu'),\n",
        "                    Dense(1, activation='sigmoid')\n",
        "])\n",
        "\n",
        "cnn_model6.summary()\n",
        "\n",
        "# compile the model for binary classfiication. We want to use both recall and the accuracy to \n",
        "#evaluate our model. Recall is especially important because a false negative may cost someone's life,\n",
        "#if we tell them that they don't have a tumor but they actually do have one.\n",
        "opt6 = tf.keras.optimizers.Adam(learning_rate = 0.005)\n",
        "#recall = tf.keras.metrics.Recall()\n",
        "cnn_model6.compile(\n",
        "    optimizer = opt6,\n",
        "    loss = 'binary_crossentropy', \n",
        "    metrics = [tf.keras.metrics.Recall(), 'binary_accuracy']\n",
        ")\n",
        "\n",
        "\n",
        "cnn_checkpoint_path6 = 'model_checkpoints/checkpoint6'\n",
        "cnn_checkpoint6 = ModelCheckpoint(filepath=cnn_checkpoint_path6,\n",
        "                             save_freq='epoch',\n",
        "                             save_weights_only=True,\n",
        "                             save_best_only=True,\n",
        "                             verbose=1)\n",
        "\n",
        "\n",
        "history6 = cnn_model6.fit(train_X, train_y, epochs = 5, batch_size = 64, verbose = 2, validation_data = (cv_X, cv_y), callbacks = [cnn_checkpoint6])\n",
        "\n",
        "\n",
        "# Plot the training and validation accuracy with epoch\n",
        "plt.plot(history6.history['binary_accuracy'])\n",
        "plt.plot(history6.history['val_binary_accuracy'])\n",
        "plt.title('Accuracy vs. epochs')\n",
        "plt.ylabel('Accuracy')\n",
        "plt.xlabel('Epoch')\n",
        "plt.legend(['Training', 'Validation'], loc='upper right')\n",
        "plt.show()\n",
        "\n",
        "# Plot the training and validation loss\n",
        "\n",
        "plt.plot(history6.history['loss'])\n",
        "plt.plot(history6.history['val_loss'])\n",
        "plt.title('Loss vs. epochs')\n",
        "plt.ylabel('Loss')\n",
        "plt.xlabel('Epoch')\n",
        "plt.legend(['Training', 'Validation'], loc='upper right')\n",
        "plt.show()\n",
        "\n",
        "\n",
        "test_loss6, test_accuracy6, recall = cnn_model6.evaluate(test_X, test_y)\n",
        "\n",
        "df6 = pd.DataFrame(history6.history)\n",
        "df6.head()"
      ],
      "execution_count": null,
      "outputs": []
    },
    {
      "cell_type": "markdown",
      "metadata": {
        "id": "NMUvWox0adoC"
      },
      "source": [
        "Model7"
      ]
    },
    {
      "cell_type": "code",
      "metadata": {
        "id": "PVPgMUrWacd8"
      },
      "source": [
        "cnn_model7 = Sequential([\n",
        "                   Conv2D(filters=6, kernel_size=(5,5), strides = (1,1),padding='valid', activation = 'relu', input_shape=(128,128,3)), # note we need 1 in  input_shape=(28,28,1)\n",
        "                    MaxPooling2D(pool_size=(2,2), strides=(2,2), padding='valid'),\n",
        "                    Conv2D(filters=4, kernel_size=(5,5), strides=(1,1), padding='valid', activation = 'relu'),\n",
        "                    MaxPooling2D(pool_size=(2,2), strides=(2,2), padding='valid'),\n",
        "                    Conv2D(filters=4, kernel_size=(5,5), strides=(1,1), padding='valid', activation = 'relu'),\n",
        "                    MaxPooling2D(pool_size=(2,2), strides=(2,2), padding='valid'),\n",
        "                    Flatten(),\n",
        "                    Dense(84, activation = 'relu'),\n",
        "                    Dense(64, activation = 'relu'),\n",
        "                    Dense(36, activation = 'relu'),\n",
        "                    Dense(28, activation = 'relu'),\n",
        "                    Dense(1, activation='sigmoid')\n",
        "])\n",
        "\n",
        "cnn_model7.summary()\n",
        "\n",
        "# compile the model for binary classfiication. We want to use both recall and the accuracy to \n",
        "#evaluate our model. Recall is especially important because a false negative may cost someone's life,\n",
        "#if we tell them that they don't have a tumor but they actually do have one.\n",
        "opt7 = tf.keras.optimizers.Adam(learning_rate = 0.005)\n",
        "#recall = tf.keras.metrics.Recall()\n",
        "cnn_model7.compile(\n",
        "    optimizer = opt7,\n",
        "    loss = 'binary_crossentropy', \n",
        "    metrics = [tf.keras.metrics.Recall(), 'binary_accuracy']\n",
        ")\n",
        "\n",
        "\n",
        "cnn_checkpoint_path7 = 'model_checkpoints/checkpoint7'\n",
        "cnn_checkpoint7 = ModelCheckpoint(filepath=cnn_checkpoint_path7,\n",
        "                             save_freq='epoch',\n",
        "                             save_weights_only=True,\n",
        "                             save_best_only=True,\n",
        "                             verbose=1)\n",
        "\n",
        "\n",
        "history7 = cnn_model7.fit(train_X, train_y, epochs = 5, batch_size = 64, verbose = 2, validation_data = (cv_X, cv_y), callbacks = [cnn_checkpoint7])\n",
        "\n",
        "\n",
        "# Plot the training and validation accuracy with epoch\n",
        "plt.plot(history7.history['binary_accuracy'])\n",
        "plt.plot(history7.history['val_binary_accuracy'])\n",
        "plt.title('Accuracy vs. epochs')\n",
        "plt.ylabel('Accuracy')\n",
        "plt.xlabel('Epoch')\n",
        "plt.legend(['Training', 'Validation'], loc='upper right')\n",
        "plt.show()\n",
        "\n",
        "# Plot the training and validation loss\n",
        "\n",
        "plt.plot(history7.history['loss'])\n",
        "plt.plot(history7.history['val_loss'])\n",
        "plt.title('Loss vs. epochs')\n",
        "plt.ylabel('Loss')\n",
        "plt.xlabel('Epoch')\n",
        "plt.legend(['Training', 'Validation'], loc='upper right')\n",
        "plt.show()\n",
        "\n",
        "\n",
        "test_loss7, test_accuracy7, recall = cnn_model7.evaluate(test_X, test_y)\n",
        "\n",
        "df7 = pd.DataFrame(history7.history)\n",
        "df7.head()"
      ],
      "execution_count": null,
      "outputs": []
    },
    {
      "cell_type": "markdown",
      "metadata": {
        "id": "ucsMoEdzetY8"
      },
      "source": [
        "Model8"
      ]
    },
    {
      "cell_type": "code",
      "metadata": {
        "id": "72-JF1OLerAj"
      },
      "source": [
        "cnn_model8 = Sequential([\n",
        "                   Conv2D(filters=6, kernel_size=(5,5), strides = (1,1),padding='valid', activation = 'relu', input_shape=(128,128,3)), # note we need 1 in  input_shape=(28,28,1)\n",
        "                    MaxPooling2D(pool_size=(2,2), strides=(2,2), padding='valid'),\n",
        "                    Conv2D(filters=4, kernel_size=(5,5), strides=(1,1), padding='valid', activation = 'relu'),\n",
        "                    MaxPooling2D(pool_size=(2,2), strides=(2,2), padding='valid'),\n",
        "                    Conv2D(filters=4, kernel_size=(5,5), strides=(1,1), padding='valid', activation = 'relu'),\n",
        "                    MaxPooling2D(pool_size=(2,2), strides=(2,2), padding='valid'),\n",
        "                    Flatten(),\n",
        "                    Dense(128, activation = 'relu'),\n",
        "                    Dense(84, activation = 'relu'),\n",
        "                    Dense(68, activation = 'relu'),\n",
        "                    Dense(10, activation = 'relu'),\n",
        "                    Dense(1, activation='sigmoid')\n",
        "])\n",
        "\n",
        "cnn_model8.summary()\n",
        "\n",
        "# compile the model for binary classfiication. We want to use both recall and the accuracy to \n",
        "#evaluate our model. Recall is especially important because a false negative may cost someone's life,\n",
        "#if we tell them that they don't have a tumor but they actually do have one.\n",
        "opt8 = tf.keras.optimizers.Adam(learning_rate = 0.005)\n",
        "#recall = tf.keras.metrics.Recall()\n",
        "cnn_model8.compile(\n",
        "    optimizer = opt8,\n",
        "    loss = 'binary_crossentropy', \n",
        "    metrics = [tf.keras.metrics.Recall(), 'binary_accuracy']\n",
        ")\n",
        "\n",
        "\n",
        "cnn_checkpoint_path8 = 'model_checkpoints/checkpoint8'\n",
        "cnn_checkpoint8 = ModelCheckpoint(filepath=cnn_checkpoint_path8,\n",
        "                             save_freq='epoch',\n",
        "                             save_weights_only=True,\n",
        "                             save_best_only=True,\n",
        "                             verbose=1)\n",
        "\n",
        "\n",
        "history8 = cnn_model8.fit(train_X, train_y, epochs = 5, batch_size = 64, verbose = 2, validation_data = (cv_X, cv_y), callbacks = [cnn_checkpoint8])\n",
        "\n",
        "\n",
        "# Plot the training and validation accuracy with epoch\n",
        "plt.plot(history8.history['binary_accuracy'])\n",
        "plt.plot(history8.history['val_binary_accuracy'])\n",
        "plt.title('Accuracy vs. epochs')\n",
        "plt.ylabel('Accuracy')\n",
        "plt.xlabel('Epoch')\n",
        "plt.legend(['Training', 'Validation'], loc='upper right')\n",
        "plt.show()\n",
        "\n",
        "# Plot the training and validation loss\n",
        "\n",
        "plt.plot(history8.history['loss'])\n",
        "plt.plot(history8.history['val_loss'])\n",
        "plt.title('Loss vs. epochs')\n",
        "plt.ylabel('Loss')\n",
        "plt.xlabel('Epoch')\n",
        "plt.legend(['Training', 'Validation'], loc='upper right')\n",
        "plt.show()\n",
        "\n",
        "\n",
        "test_loss8, test_accuracy8, recall = cnn_model8.evaluate(test_X, test_y)\n",
        "\n",
        "df8 = pd.DataFrame(history8.history)\n",
        "df8.head()"
      ],
      "execution_count": null,
      "outputs": []
    },
    {
      "cell_type": "markdown",
      "metadata": {
        "id": "4BWVrVURhQlS"
      },
      "source": [
        "Model9"
      ]
    },
    {
      "cell_type": "code",
      "metadata": {
        "id": "r5lh5xoJhYug"
      },
      "source": [
        "cnn_model9 = Sequential([\n",
        "                   Conv2D(filters=6, kernel_size=(5,5), strides = (1,1),padding='valid', activation = 'relu', input_shape=(128,128,3)), # note we need 1 in  input_shape=(28,28,1)\n",
        "                    MaxPooling2D(pool_size=(2,2), strides=(2,2), padding='valid'),\n",
        "                    Conv2D(filters=6, kernel_size=(5,5), strides=(1,1), padding='valid', activation = 'relu'),\n",
        "                    MaxPooling2D(pool_size=(2,2), strides=(2,2), padding='valid'),\n",
        "                    Conv2D(filters=6, kernel_size=(5,5), strides=(1,1), padding='valid', activation = 'relu'),\n",
        "                    Flatten(),\n",
        "                    Dense(84, activation = 'relu'),\n",
        "                    Dense(64, activation = 'relu'),\n",
        "                    Dense(36, activation = 'relu'),\n",
        "                    Dense(28, activation = 'relu'),\n",
        "                    Dense(1, activation='sigmoid')\n",
        "])\n",
        "\n",
        "cnn_model9.summary()\n",
        "\n",
        "# compile the model for binary classfiication. We want to use both recall and the accuracy to \n",
        "#evaluate our model. Recall is especially important because a false negative may cost someone's life,\n",
        "#if we tell them that they don't have a tumor but they actually do have one.\n",
        "opt9 = tf.keras.optimizers.Adam(learning_rate = 0.005)\n",
        "#recall = tf.keras.metrics.Recall()\n",
        "cnn_model9.compile(\n",
        "    optimizer = opt9,\n",
        "    loss = 'binary_crossentropy', \n",
        "    metrics = [tf.keras.metrics.Recall(), 'binary_accuracy']\n",
        ")\n",
        "\n",
        "\n",
        "cnn_checkpoint_path9 = 'model_checkpoints/checkpoint9'\n",
        "cnn_checkpoint9 = ModelCheckpoint(filepath=cnn_checkpoint_path9,\n",
        "                             save_freq='epoch',\n",
        "                             save_weights_only=True,\n",
        "                             save_best_only=True,\n",
        "                             verbose=1)\n",
        "\n",
        "\n",
        "history9 = cnn_model9.fit(train_X, train_y, epochs = 5, batch_size = 64, verbose = 2, validation_data = (cv_X, cv_y), callbacks = [cnn_checkpoint9])\n",
        "\n",
        "\n",
        "# Plot the training and validation accuracy with epoch\n",
        "plt.plot(history9.history['binary_accuracy'])\n",
        "plt.plot(history9.history['val_binary_accuracy'])\n",
        "plt.title('Accuracy vs. epochs')\n",
        "plt.ylabel('Accuracy')\n",
        "plt.xlabel('Epoch')\n",
        "plt.legend(['Training', 'Validation'], loc='upper right')\n",
        "plt.show()\n",
        "\n",
        "# Plot the training and validation loss\n",
        "\n",
        "plt.plot(history9.history['loss'])\n",
        "plt.plot(history9.history['val_loss'])\n",
        "plt.title('Loss vs. epochs')\n",
        "plt.ylabel('Loss')\n",
        "plt.xlabel('Epoch')\n",
        "plt.legend(['Training', 'Validation'], loc='upper right')\n",
        "plt.show()\n",
        "\n",
        "\n",
        "test_loss9, test_accuracy9, recall = cnn_model9.evaluate(test_X, test_y)\n",
        "\n",
        "df9 = pd.DataFrame(history9.history)\n",
        "df9.head()"
      ],
      "execution_count": null,
      "outputs": []
    },
    {
      "cell_type": "markdown",
      "metadata": {
        "id": "U9CD_xASk9cz"
      },
      "source": [
        "Model10"
      ]
    },
    {
      "cell_type": "code",
      "metadata": {
        "id": "wgHcJknIk_R6"
      },
      "source": [
        "cnn_model10 = Sequential([\n",
        "                   Conv2D(filters=6, kernel_size=(5,5), strides = (1,1),padding='valid', activation = 'relu', input_shape=(128,128,3)), # note we need 1 in  input_shape=(28,28,1)\n",
        "                    MaxPooling2D(pool_size=(2,2), strides=(2,2), padding='valid'),\n",
        "                    Conv2D(filters=6, kernel_size=(5,5), strides=(1,1), padding='valid', activation = 'relu'),\n",
        "                    Conv2D(filters=6, kernel_size=(5,5), strides=(1,1), padding='valid', activation = 'relu'),\n",
        "                    Flatten(),\n",
        "                    Dense(84, activation = 'relu'),\n",
        "                    Dense(64, activation = 'relu'),\n",
        "                    Dense(36, activation = 'relu'),\n",
        "                    Dense(28, activation = 'relu'),\n",
        "                    Dense(1, activation='sigmoid')\n",
        "])\n",
        "\n",
        "cnn_model10.summary()\n",
        "\n",
        "# compile the model for binary classfiication. We want to use both recall and the accuracy to \n",
        "#evaluate our model. Recall is especially important because a false negative may cost someone's life,\n",
        "#if we tell them that they don't have a tumor but they actually do have one.\n",
        "opt10 = tf.keras.optimizers.Adam(learning_rate = 0.005)\n",
        "#recall = tf.keras.metrics.Recall()\n",
        "cnn_model10.compile(\n",
        "    optimizer = opt10,\n",
        "    loss = 'binary_crossentropy', \n",
        "    metrics = [tf.keras.metrics.Recall(), 'binary_accuracy']\n",
        ")\n",
        "\n",
        "\n",
        "cnn_checkpoint_path10 = 'model_checkpoints/checkpoint10'\n",
        "cnn_checkpoint10 = ModelCheckpoint(filepath=cnn_checkpoint_path10,\n",
        "                             save_freq='epoch',\n",
        "                             save_weights_only=True,\n",
        "                             save_best_only=True,\n",
        "                             verbose=1)\n",
        "\n",
        "\n",
        "history10 = cnn_model10.fit(train_X, train_y, epochs = 5, batch_size = 64, verbose = 2, validation_data = (cv_X, cv_y), callbacks = [cnn_checkpoint10])\n",
        "\n",
        "\n",
        "# Plot the training and validation accuracy with epoch\n",
        "plt.plot(history10.history['binary_accuracy'])\n",
        "plt.plot(history10.history['val_binary_accuracy'])\n",
        "plt.title('Accuracy vs. epochs')\n",
        "plt.ylabel('Accuracy')\n",
        "plt.xlabel('Epoch')\n",
        "plt.legend(['Training', 'Validation'], loc='upper right')\n",
        "plt.show()\n",
        "\n",
        "# Plot the training and validation loss\n",
        "\n",
        "plt.plot(history10.history['loss'])\n",
        "plt.plot(history10.history['val_loss'])\n",
        "plt.title('Loss vs. epochs')\n",
        "plt.ylabel('Loss')\n",
        "plt.xlabel('Epoch')\n",
        "plt.legend(['Training', 'Validation'], loc='upper right')\n",
        "plt.show()\n",
        "\n",
        "\n",
        "test_loss10, test_accuracy10, recall = cnn_model10.evaluate(test_X, test_y)\n",
        "\n",
        "df10 = pd.DataFrame(history10.history)\n",
        "df10.head()"
      ],
      "execution_count": null,
      "outputs": []
    },
    {
      "cell_type": "markdown",
      "metadata": {
        "id": "DC7AKULuwqZR"
      },
      "source": [
        "## **1d** : try 3 different optimization algorithm\n"
      ]
    },
    {
      "cell_type": "markdown",
      "metadata": {
        "id": "mPSfSKT_ST4q"
      },
      "source": [
        "(1) model 11 - SGD: Gradient descent(with momentum) optimizer\n",
        "\n",
        "\n"
      ]
    },
    {
      "cell_type": "code",
      "metadata": {
        "id": "x4yLqoh9BCQi"
      },
      "source": [
        ""
      ],
      "execution_count": null,
      "outputs": []
    },
    {
      "cell_type": "code",
      "metadata": {
        "id": "yVHvoO24y7b-"
      },
      "source": [
        "cnn_model11 = Sequential([\n",
        "                   Conv2D(filters=6, kernel_size=(5,5), strides = (1,1),padding='valid', activation = 'relu', input_shape=(128,128,3)), # note we need 1 in  input_shape=(28,28,1)\n",
        "                    MaxPooling2D(pool_size=(2,2), strides=(2,2), padding='valid'),\n",
        "                    Conv2D(filters=6, kernel_size=(5,5), strides=(1,1), padding='valid', activation = 'relu'),\n",
        "                    MaxPooling2D(pool_size=(2,2), strides=(2,2), padding='valid'),\n",
        "                    Flatten(),\n",
        "                    Dense(64, activation = 'relu'),\n",
        "                    Dense(36, activation = 'relu'),\n",
        "                    Dense(1, activation='sigmoid')\n",
        "])\n",
        "\n",
        "cnn_model11.summary()\n",
        "\n",
        "# compile the model for binary classfiication. We want to use both recall and the accuracy to \n",
        "#evaluate our model. Recall is especially important because a false negative may cost someone's life,\n",
        "#if we tell them that they don't have a tumor but they actually do have one.\n",
        "opt11 = tf.keras.optimizers.SGD(learning_rate = 0.005)\n",
        "#recall = tf.keras.metrics.Recall()\n",
        "cnn_model11.compile(\n",
        "    optimizer = opt11,\n",
        "    loss = 'binary_crossentropy', \n",
        "    metrics = [tf.keras.metrics.Recall(), 'binary_accuracy']\n",
        ")\n",
        "\n",
        "\n",
        "cnn_checkpoint_path11 = 'model_checkpoints/checkpoint11'\n",
        "cnn_checkpoint11 = ModelCheckpoint(filepath=cnn_checkpoint_path11,\n",
        "                             save_freq='epoch',\n",
        "                             save_weights_only=True,\n",
        "                             save_best_only=True,\n",
        "                             verbose=1)\n",
        "\n",
        "\n",
        "history11 = cnn_model11.fit(train_X, train_y, epochs = 5, batch_size = 64, verbose = 2, validation_data = (cv_X, cv_y), callbacks = [cnn_checkpoint11])\n",
        "\n",
        "\n",
        "# Plot the training and validation accuracy with epoch\n",
        "plt.plot(history11.history['binary_accuracy'])\n",
        "plt.plot(history11.history['val_binary_accuracy'])\n",
        "plt.title('Accuracy vs. epochs')\n",
        "plt.ylabel('Accuracy')\n",
        "plt.xlabel('Epoch')\n",
        "plt.legend(['Training', 'Validation'], loc='upper right')\n",
        "plt.show()\n",
        "\n",
        "# Plot the training and validation loss\n",
        "\n",
        "plt.plot(history11.history['loss'])\n",
        "plt.plot(history11.history['val_loss'])\n",
        "plt.title('Loss vs. epochs')\n",
        "plt.ylabel('Loss')\n",
        "plt.xlabel('Epoch')\n",
        "plt.legend(['Training', 'Validation'], loc='upper right')\n",
        "plt.show()\n",
        "\n",
        "\n",
        "test_loss11, test_accuracy11, recall = cnn_model11.evaluate(test_X, test_y)\n",
        "\n",
        "df11 = pd.DataFrame(history11.history)\n",
        "df11.head()"
      ],
      "execution_count": null,
      "outputs": []
    },
    {
      "cell_type": "markdown",
      "metadata": {
        "id": "UiF5pwfQagy4"
      },
      "source": [
        "(2)model 12 - Adamax: Optimizer that implements the Adamax algorithm."
      ]
    },
    {
      "cell_type": "code",
      "metadata": {
        "id": "h1XF62Or72sH"
      },
      "source": [
        "cnn_model12 = Sequential([\n",
        "                   Conv2D(filters=6, kernel_size=(5,5), strides = (1,1),padding='valid', activation = 'relu', input_shape=(128,128,3)), # note we need 1 in  input_shape=(28,28,1)\n",
        "                    MaxPooling2D(pool_size=(2,2), strides=(2,2), padding='valid'),\n",
        "                    Conv2D(filters=6, kernel_size=(5,5), strides=(1,1), padding='valid', activation = 'relu'),\n",
        "                    MaxPooling2D(pool_size=(2,2), strides=(2,2), padding='valid'),\n",
        "                    Flatten(),\n",
        "                    Dense(64, activation = 'relu'),\n",
        "                    Dense(36, activation = 'relu'),\n",
        "                    Dense(1, activation='sigmoid')\n",
        "])\n",
        "\n",
        "\n",
        "opt12 = tf.keras.optimizers.Adamax(learning_rate = 0.005)\n",
        "\n",
        "cnn_model12.compile(\n",
        "    optimizer = opt12,\n",
        "    loss = 'binary_crossentropy', \n",
        "    metrics = [tf.keras.metrics.Recall(), 'binary_accuracy']\n",
        ")\n",
        "\n",
        "\n",
        "cnn_checkpoint_path12 = 'model_checkpoints/checkpoint12'\n",
        "cnn_checkpoint12 = ModelCheckpoint(filepath=cnn_checkpoint_path12,\n",
        "                             save_freq='epoch',\n",
        "                             save_weights_only=True,\n",
        "                             save_best_only=True,\n",
        "                             verbose=1)\n",
        "\n",
        "\n",
        "history12 = cnn_model12.fit(train_X, train_y, epochs = 5, batch_size = 64, verbose = 2, validation_data = (cv_X, cv_y), callbacks = [cnn_checkpoint12])\n",
        "\n",
        "\n",
        "# Plot the training and validation accuracy with epoch\n",
        "plt.plot(history12.history['binary_accuracy'])\n",
        "plt.plot(history12.history['val_binary_accuracy'])\n",
        "plt.title('Accuracy vs. epochs')\n",
        "plt.ylabel('Accuracy')\n",
        "plt.xlabel('Epoch')\n",
        "plt.legend(['Training', 'Validation'], loc='upper right')\n",
        "plt.show()\n",
        "\n",
        "# Plot the training and validation loss\n",
        "\n",
        "plt.plot(history12.history['loss'])\n",
        "plt.plot(history12.history['val_loss'])\n",
        "plt.title('Loss vs. epochs')\n",
        "plt.ylabel('Loss')\n",
        "plt.xlabel('Epoch')\n",
        "plt.legend(['Training', 'Validation'], loc='upper right')\n",
        "plt.show()\n",
        "\n",
        "\n",
        "test_loss12, test_accuracy12, recall = cnn_model12.evaluate(test_X, test_y)\n",
        "\n",
        "df12 = pd.DataFrame(history12.history)\n",
        "df12.head()"
      ],
      "execution_count": null,
      "outputs": []
    },
    {
      "cell_type": "markdown",
      "metadata": {
        "id": "mPPswDvFoIl6"
      },
      "source": [
        "(3)model 13 - Nadam: optimizer that implements the Nadam algorithm."
      ]
    },
    {
      "cell_type": "code",
      "metadata": {
        "id": "WDihco88v_Kl"
      },
      "source": [
        "cnn_model13 = Sequential([\n",
        "                   Conv2D(filters=6, kernel_size=(5,5), strides = (1,1),padding='valid', activation = 'relu', input_shape=(128,128,3)), # note we need 1 in  input_shape=(28,28,1)\n",
        "                    MaxPooling2D(pool_size=(2,2), strides=(2,2), padding='valid'),\n",
        "                    Conv2D(filters=4, kernel_size=(5,5), strides=(1,1), padding='valid', activation = 'relu'),\n",
        "                    MaxPooling2D(pool_size=(2,2), strides=(2,2), padding='valid'),\n",
        "                    Flatten(),\n",
        "                    Dense(64, activation = 'relu'),\n",
        "                    Dense(36, activation = 'relu'),\n",
        "                    Dense(1, activation='sigmoid')\n",
        "])\n",
        "\n",
        "\n",
        "opt13 = tf.keras.optimizers.Nadam(learning_rate = 0.005)\n",
        "\n",
        "cnn_model13.compile(\n",
        "    optimizer = opt13,\n",
        "    loss = 'binary_crossentropy', \n",
        "    metrics = [tf.keras.metrics.Recall(), 'binary_accuracy']\n",
        ")\n",
        "\n",
        "\n",
        "cnn_checkpoint_path13 = 'model_checkpoints/checkpoint13'\n",
        "cnn_checkpoint13 = ModelCheckpoint(filepath=cnn_checkpoint_path13,\n",
        "                             save_freq='epoch',\n",
        "                             save_weights_only=True,\n",
        "                             save_best_only=True,\n",
        "                             verbose=1)\n",
        "\n",
        "\n",
        "history13 = cnn_model13.fit(train_X, train_y, epochs = 5, batch_size = 64, verbose = 2, validation_data = (cv_X, cv_y), callbacks = [cnn_checkpoint13])\n",
        "\n",
        "\n",
        "# Plot the training and validation accuracy with epoch\n",
        "plt.plot(history13.history['binary_accuracy'])\n",
        "plt.plot(history13.history['val_binary_accuracy'])\n",
        "plt.title('Accuracy vs. epochs')\n",
        "plt.ylabel('Accuracy')\n",
        "plt.xlabel('Epoch')\n",
        "plt.legend(['Training', 'Validation'], loc='upper right')\n",
        "plt.show()\n",
        "\n",
        "# Plot the training and validation loss\n",
        "\n",
        "plt.plot(history13.history['loss'])\n",
        "plt.plot(history13.history['val_loss'])\n",
        "plt.title('Loss vs. epochs')\n",
        "plt.ylabel('Loss')\n",
        "plt.xlabel('Epoch')\n",
        "plt.legend(['Training', 'Validation'], loc='upper right')\n",
        "plt.show()\n",
        "\n",
        "\n",
        "test_loss13, test_accuracy13, recall = cnn_model13.evaluate(test_X, test_y)\n",
        "\n",
        "df13 = pd.DataFrame(history13.history)\n",
        "df13.head()"
      ],
      "execution_count": null,
      "outputs": []
    },
    {
      "cell_type": "markdown",
      "metadata": {
        "id": "1mnUSJnDwAY4"
      },
      "source": [
        "## **1e** : try 3 different epochs"
      ]
    },
    {
      "cell_type": "markdown",
      "metadata": {
        "id": "FTnj6BfH_ARg"
      },
      "source": [
        "model 14:  optimizer = Adam, epochs = 10"
      ]
    },
    {
      "cell_type": "code",
      "metadata": {
        "id": "JcotsVRpwLzl"
      },
      "source": [
        "cnn_model14 = Sequential([\n",
        "                   Conv2D(filters=6, kernel_size=(5,5), strides = (1,1),padding='valid', activation = 'relu', input_shape=(128,128,3)), # note we need 1 in  input_shape=(28,28,1)\n",
        "                    MaxPooling2D(pool_size=(2,2), strides=(2,2), padding='valid'),\n",
        "                    Conv2D(filters=4, kernel_size=(5,5), strides=(1,1), padding='valid', activation = 'relu'),\n",
        "                    MaxPooling2D(pool_size=(2,2), strides=(2,2), padding='valid'),\n",
        "                    Flatten(),\n",
        "                    Dense(64, activation = 'relu'),\n",
        "                    Dense(36, activation = 'relu'),\n",
        "                    Dense(1, activation='sigmoid')\n",
        "])\n",
        "\n",
        "\n",
        "opt14 = tf.keras.optimizers.Adam(learning_rate = 0.005)\n",
        "#recall = tf.keras.metrics.Recall()\n",
        "cnn_model14.compile(\n",
        "    optimizer = opt14,\n",
        "    loss = 'binary_crossentropy', \n",
        "    metrics = [tf.keras.metrics.Recall(), 'binary_accuracy']\n",
        ")\n",
        "\n",
        "\n",
        "cnn_checkpoint_path14 = 'model_checkpoints/checkpoint14'\n",
        "cnn_checkpoint14 = ModelCheckpoint(filepath=cnn_checkpoint_path14,\n",
        "                             save_freq='epoch',\n",
        "                             save_weights_only=True,\n",
        "                             save_best_only=True,\n",
        "                             verbose=1)\n",
        "\n",
        "\n",
        "history14 = cnn_model14.fit(train_X, train_y, epochs = 10, batch_size = 64, verbose = 2, validation_data = (cv_X, cv_y), callbacks = [cnn_checkpoint14])\n",
        "\n",
        "\n",
        "# Plot the training and validation accuracy with epoch\n",
        "plt.plot(history14.history['binary_accuracy'])\n",
        "plt.plot(history14.history['val_binary_accuracy'])\n",
        "plt.title('Accuracy vs. epochs')\n",
        "plt.ylabel('Accuracy')\n",
        "plt.xlabel('Epoch')\n",
        "plt.legend(['Training', 'Validation'], loc='upper right')\n",
        "plt.show()\n",
        "\n",
        "# Plot the training and validation loss\n",
        "\n",
        "plt.plot(history14.history['loss'])\n",
        "plt.plot(history14.history['val_loss'])\n",
        "plt.title('Loss vs. epochs')\n",
        "plt.ylabel('Loss')\n",
        "plt.xlabel('Epoch')\n",
        "plt.legend(['Training', 'Validation'], loc='upper right')\n",
        "plt.show()\n",
        "\n",
        "\n",
        "test_loss14, test_accuracy14, recall = cnn_model14.evaluate(test_X, test_y)\n",
        "\n",
        "df14 = pd.DataFrame(history14.history)\n",
        "df14.head()"
      ],
      "execution_count": null,
      "outputs": []
    },
    {
      "cell_type": "code",
      "metadata": {
        "id": "qWRt3PfuDwB6"
      },
      "source": [
        "df14"
      ],
      "execution_count": null,
      "outputs": []
    },
    {
      "cell_type": "markdown",
      "metadata": {
        "id": "bHleOdJKBQl5"
      },
      "source": [
        "model 15:  optimizer = Adam, epochs = 15 (based on model 6)"
      ]
    },
    {
      "cell_type": "code",
      "metadata": {
        "id": "uZfTBH4BBcmP"
      },
      "source": [
        "cnn_model15 = Sequential([\n",
        "                   Conv2D(filters=6, kernel_size=(5,5), strides = (1,1),padding='valid', activation = 'relu', input_shape=(128,128,3)), # note we need 1 in  input_shape=(28,28,1)\n",
        "                    MaxPooling2D(pool_size=(2,2), strides=(2,2), padding='valid'),\n",
        "                    Conv2D(filters=4, kernel_size=(5,5), strides=(1,1), padding='valid', activation = 'relu'),\n",
        "                    MaxPooling2D(pool_size=(2,2), strides=(2,2), padding='valid'),\n",
        "                    Flatten(),\n",
        "                    Dense(64, activation = 'relu'),\n",
        "                    Dense(36, activation = 'relu'),\n",
        "                    Dense(1, activation='sigmoid')\n",
        "])\n",
        "\n",
        "\n",
        "opt15 = tf.keras.optimizers.Adam(learning_rate = 0.005)\n",
        "#recall = tf.keras.metrics.Recall()\n",
        "cnn_model15.compile(\n",
        "    optimizer = opt15,\n",
        "    loss = 'binary_crossentropy', \n",
        "    metrics = [tf.keras.metrics.Recall(), 'binary_accuracy']\n",
        ")\n",
        "\n",
        "\n",
        "cnn_checkpoint_path15 = 'model_checkpoints/checkpoint15'\n",
        "cnn_checkpoint15 = ModelCheckpoint(filepath=cnn_checkpoint_path15,\n",
        "                             save_freq='epoch',\n",
        "                             save_weights_only=True,\n",
        "                             save_best_only=True,\n",
        "                             verbose=1)\n",
        "\n",
        "\n",
        "history15 = cnn_model15.fit(train_X, train_y, epochs = 15, batch_size = 64, verbose = 2, validation_data = (cv_X, cv_y), callbacks = [cnn_checkpoint15])\n",
        "\n",
        "\n",
        "# Plot the training and validation accuracy with epoch\n",
        "plt.plot(history15.history['binary_accuracy'])\n",
        "plt.plot(history15.history['val_binary_accuracy'])\n",
        "plt.title('Accuracy vs. epochs')\n",
        "plt.ylabel('Accuracy')\n",
        "plt.xlabel('Epoch')\n",
        "plt.legend(['Training', 'Validation'], loc='upper right')\n",
        "plt.show()\n",
        "\n",
        "# Plot the training and validation loss\n",
        "\n",
        "plt.plot(history15.history['loss'])\n",
        "plt.plot(history15.history['val_loss'])\n",
        "plt.title('Loss vs. epochs')\n",
        "plt.ylabel('Loss')\n",
        "plt.xlabel('Epoch')\n",
        "plt.legend(['Training', 'Validation'], loc='upper right')\n",
        "plt.show()\n",
        "\n",
        "\n",
        "test_loss15, test_accuracy15, recall = cnn_model15.evaluate(test_X, test_y)\n",
        "\n",
        "df15 = pd.DataFrame(history15.history)\n",
        "df15"
      ],
      "execution_count": null,
      "outputs": []
    },
    {
      "cell_type": "code",
      "metadata": {
        "id": "-L-3VzcoDje1"
      },
      "source": [
        "df15"
      ],
      "execution_count": null,
      "outputs": []
    },
    {
      "cell_type": "markdown",
      "metadata": {
        "id": "pxdFCe0GBc3g"
      },
      "source": [
        "model 16: optimizer= adam, epochs = 10 (based on model 5)"
      ]
    },
    {
      "cell_type": "code",
      "metadata": {
        "id": "dmepy-uECE-1"
      },
      "source": [
        "cnn_model16 = Sequential([\n",
        "                   Conv2D(filters=6, kernel_size=(5,5), strides = (1,1),padding='valid', activation = 'relu', input_shape=(128,128,3)), # note we need 1 in  input_shape=(28,28,1)\n",
        "                    MaxPooling2D(pool_size=(2,2), strides=(2,2), padding='valid'),\n",
        "                    Conv2D(filters=6, kernel_size=(5,5), strides=(1,1), padding='valid', activation = 'relu'),\n",
        "                    MaxPooling2D(pool_size=(2,2), strides=(2,2), padding='valid'),\n",
        "                    Flatten(),\n",
        "                    Dense(64, activation = 'relu'),\n",
        "                    Dense(36, activation = 'relu'),\n",
        "                    Dense(1, activation='sigmoid')\n",
        "])\n",
        "\n",
        "opt16 = tf.keras.optimizers.Adam(learning_rate = 0.005)\n",
        "#recall = tf.keras.metrics.Recall()\n",
        "cnn_model16.compile(\n",
        "    optimizer = opt16,\n",
        "    loss = 'binary_crossentropy', \n",
        "    metrics = [tf.keras.metrics.Recall(), 'binary_accuracy']\n",
        ")\n",
        "\n",
        "\n",
        "cnn_checkpoint_path16 = 'model_checkpoints/checkpoint16'\n",
        "cnn_checkpoint16 = ModelCheckpoint(filepath=cnn_checkpoint_path16,\n",
        "                             save_freq='epoch',\n",
        "                             save_weights_only=True,\n",
        "                             save_best_only=True,\n",
        "                             verbose=1)\n",
        "\n",
        "\n",
        "history16 = cnn_model16.fit(train_X, train_y, epochs = 10, batch_size = 64, verbose = 2, validation_data = (cv_X, cv_y), callbacks = [cnn_checkpoint16])\n",
        "\n",
        "\n",
        "# Plot the training and validation accuracy with epoch\n",
        "plt.plot(history16.history['binary_accuracy'])\n",
        "plt.plot(history16.history['val_binary_accuracy'])\n",
        "plt.title('Accuracy vs. epochs')\n",
        "plt.ylabel('Accuracy')\n",
        "plt.xlabel('Epoch')\n",
        "plt.legend(['Training', 'Validation'], loc='upper right')\n",
        "plt.show()\n",
        "\n",
        "# Plot the training and validation loss\n",
        "\n",
        "plt.plot(history16.history['loss'])\n",
        "plt.plot(history16.history['val_loss'])\n",
        "plt.title('Loss vs. epochs')\n",
        "plt.ylabel('Loss')\n",
        "plt.xlabel('Epoch')\n",
        "plt.legend(['Training', 'Validation'], loc='upper right')\n",
        "plt.show()\n",
        "\n",
        "\n",
        "test_loss16, test_accuracy16, recall = cnn_model16.evaluate(test_X, test_y)\n",
        "\n",
        "df16 = pd.DataFrame(history16.history)\n",
        "df16"
      ],
      "execution_count": null,
      "outputs": []
    },
    {
      "cell_type": "markdown",
      "metadata": {
        "id": "MSDz3ndZwMwa"
      },
      "source": [
        "## **1f** : try 3 different weight initializations"
      ]
    },
    {
      "cell_type": "markdown",
      "metadata": {
        "id": "oXUX_T9mG-JU"
      },
      "source": [
        "model 17: weights initializer = he_uniform (based on model 15)"
      ]
    },
    {
      "cell_type": "code",
      "metadata": {
        "id": "UXNVPG-wwS0s"
      },
      "source": [
        "cnn_model17 = Sequential([\n",
        "                   Conv2D(filters=6, kernel_size=(5,5), strides = (1,1),padding='valid', activation = 'relu', input_shape=(128,128,3)), # note we need 1 in  input_shape=(28,28,1)\n",
        "                    MaxPooling2D(pool_size=(2,2), strides=(2,2), padding='valid'),\n",
        "                    Conv2D(filters=4, kernel_size=(5,5), strides=(1,1), padding='valid', activation = 'relu'),\n",
        "                    MaxPooling2D(pool_size=(2,2), strides=(2,2), padding='valid'),\n",
        "                    Flatten(),\n",
        "                    Dense(64, activation = 'relu',\n",
        "                          kernel_initializer ='he_uniform', bias_initializer = 'ones'),\n",
        "                    Dense(36, activation = 'relu'),\n",
        "                    Dense(1, activation='sigmoid')\n",
        "])\n",
        "\n",
        "\n",
        "opt17 = tf.keras.optimizers.Adam(learning_rate = 0.005)\n",
        "#recall = tf.keras.metrics.Recall()\n",
        "cnn_model17.compile(\n",
        "    optimizer = opt17,\n",
        "    loss = 'binary_crossentropy', \n",
        "    metrics = [tf.keras.metrics.Recall(), 'binary_accuracy']\n",
        ")\n",
        "\n",
        "\n",
        "cnn_checkpoint_path17 = 'model_checkpoints/checkpoint17'\n",
        "cnn_checkpoint17 = ModelCheckpoint(filepath=cnn_checkpoint_path17,\n",
        "                             save_freq='epoch',\n",
        "                             save_weights_only=True,\n",
        "                             save_best_only=True,\n",
        "                             verbose=1)\n",
        "\n",
        "\n",
        "history17 = cnn_model17.fit(train_X, train_y, epochs = 15, batch_size = 64, verbose = 2, validation_data = (cv_X, cv_y), callbacks = [cnn_checkpoint17])\n",
        "\n",
        "\n",
        "# Plot the training and validation accuracy with epoch\n",
        "plt.plot(history17.history['binary_accuracy'])\n",
        "plt.plot(history17.history['val_binary_accuracy'])\n",
        "plt.title('Accuracy vs. epochs')\n",
        "plt.ylabel('Accuracy')\n",
        "plt.xlabel('Epoch')\n",
        "plt.legend(['Training', 'Validation'], loc='upper right')\n",
        "plt.show()\n",
        "\n",
        "# Plot the training and validation loss\n",
        "\n",
        "plt.plot(history17.history['loss'])\n",
        "plt.plot(history17.history['val_loss'])\n",
        "plt.title('Loss vs. epochs')\n",
        "plt.ylabel('Loss')\n",
        "plt.xlabel('Epoch')\n",
        "plt.legend(['Training', 'Validation'], loc='upper right')\n",
        "plt.show()\n",
        "\n",
        "\n",
        "test_loss17, test_accuracy17, recall = cnn_model17.evaluate(test_X, test_y)\n",
        "\n",
        "df17 = pd.DataFrame(history17.history)\n",
        "df17"
      ],
      "execution_count": null,
      "outputs": []
    },
    {
      "cell_type": "markdown",
      "metadata": {
        "id": "d0q-965OJRn5"
      },
      "source": [
        "model 18: weight initializer = lecun_uniform (based on model 15)"
      ]
    },
    {
      "cell_type": "code",
      "metadata": {
        "id": "8OGVmCSdJgDK"
      },
      "source": [
        "cnn_model18 = Sequential([\n",
        "                   Conv2D(filters=6, kernel_size=(5,5), strides = (1,1),padding='valid', activation = 'relu', input_shape=(128,128,3)), # note we need 1 in  input_shape=(28,28,1)\n",
        "                    MaxPooling2D(pool_size=(2,2), strides=(2,2), padding='valid'),\n",
        "                    Conv2D(filters=4, kernel_size=(5,5), strides=(1,1), padding='valid', activation = 'relu'),\n",
        "                    MaxPooling2D(pool_size=(2,2), strides=(2,2), padding='valid'),\n",
        "                    Flatten(),\n",
        "                    Dense(64, activation = 'relu',\n",
        "                          kernel_initializer ='lecun_uniform', bias_initializer = 'ones'),\n",
        "                    Dense(36, activation = 'relu'),\n",
        "                    Dense(1, activation='sigmoid')\n",
        "])\n",
        "\n",
        "\n",
        "opt18 = tf.keras.optimizers.Adam(learning_rate = 0.005)\n",
        "#recall = tf.keras.metrics.Recall()\n",
        "cnn_model18.compile(\n",
        "    optimizer = opt18,\n",
        "    loss = 'binary_crossentropy', \n",
        "    metrics = [tf.keras.metrics.Recall(), 'binary_accuracy']\n",
        ")\n",
        "\n",
        "\n",
        "cnn_checkpoint_path18 = 'model_checkpoints/checkpoint18'\n",
        "cnn_checkpoint18 = ModelCheckpoint(filepath=cnn_checkpoint_path18,\n",
        "                             save_freq='epoch',\n",
        "                             save_weights_only=True,\n",
        "                             save_best_only=True,\n",
        "                             verbose=1)\n",
        "\n",
        "\n",
        "history18 = cnn_model18.fit(train_X, train_y, epochs = 15, batch_size = 64, verbose = 2, validation_data = (cv_X, cv_y), callbacks = [cnn_checkpoint18])\n",
        "\n",
        "\n",
        "# Plot the training and validation accuracy with epoch\n",
        "plt.plot(history18.history['binary_accuracy'])\n",
        "plt.plot(history18.history['val_binary_accuracy'])\n",
        "plt.title('Accuracy vs. epochs')\n",
        "plt.ylabel('Accuracy')\n",
        "plt.xlabel('Epoch')\n",
        "plt.legend(['Training', 'Validation'], loc='upper right')\n",
        "plt.show()\n",
        "\n",
        "# Plot the training and validation loss\n",
        "\n",
        "plt.plot(history18.history['loss'])\n",
        "plt.plot(history18.history['val_loss'])\n",
        "plt.title('Loss vs. epochs')\n",
        "plt.ylabel('Loss')\n",
        "plt.xlabel('Epoch')\n",
        "plt.legend(['Training', 'Validation'], loc='upper right')\n",
        "plt.show()\n",
        "\n",
        "\n",
        "test_loss18, test_accuracy18, recall = cnn_model18.evaluate(test_X, test_y)\n",
        "\n",
        "df18 = pd.DataFrame(history18.history)\n",
        "df18"
      ],
      "execution_count": null,
      "outputs": []
    },
    {
      "cell_type": "markdown",
      "metadata": {
        "id": "hjbKMlQtLf4B"
      },
      "source": [
        "model 19: weight initializer= glorot_uniform (based on model 15)"
      ]
    },
    {
      "cell_type": "code",
      "metadata": {
        "id": "5BtYQOPkLvEb"
      },
      "source": [
        "cnn_model19 = Sequential([\n",
        "                   Conv2D(filters=6, kernel_size=(5,5), strides = (1,1),padding='valid', activation = 'relu', input_shape=(128,128,3)), # note we need 1 in  input_shape=(28,28,1)\n",
        "                    MaxPooling2D(pool_size=(2,2), strides=(2,2), padding='valid'),\n",
        "                    Conv2D(filters=4, kernel_size=(5,5), strides=(1,1), padding='valid', activation = 'relu'),\n",
        "                    MaxPooling2D(pool_size=(2,2), strides=(2,2), padding='valid'),\n",
        "                    Flatten(),\n",
        "                    Dense(64, activation = 'relu', \n",
        "                          kernel_initializer ='glorot_uniform', bias_initializer = 'ones'),\n",
        "                    Dense(36, activation = 'relu'),\n",
        "                    Dense(1, activation='sigmoid')\n",
        "])\n",
        "\n",
        "\n",
        "opt19 = tf.keras.optimizers.Adam(learning_rate = 0.005)\n",
        "#recall = tf.keras.metrics.Recall()\n",
        "cnn_model19.compile(\n",
        "    optimizer = opt19,\n",
        "    loss = 'binary_crossentropy', \n",
        "    metrics = [tf.keras.metrics.Recall(), 'binary_accuracy']\n",
        ")\n",
        "\n",
        "\n",
        "cnn_checkpoint_path19 = 'model_checkpoints/checkpoint19'\n",
        "cnn_checkpoint19 = ModelCheckpoint(filepath=cnn_checkpoint_path19,\n",
        "                             save_freq='epoch',\n",
        "                             save_weights_only=True,\n",
        "                             save_best_only=True,\n",
        "                             verbose=1)\n",
        "\n",
        "\n",
        "history19 = cnn_model19.fit(train_X, train_y, epochs = 15, batch_size = 64, verbose = 2, validation_data = (cv_X, cv_y), callbacks = [cnn_checkpoint19])\n",
        "\n",
        "\n",
        "# Plot the training and validation accuracy with epoch\n",
        "plt.plot(history19.history['binary_accuracy'])\n",
        "plt.plot(history19.history['val_binary_accuracy'])\n",
        "plt.title('Accuracy vs. epochs')\n",
        "plt.ylabel('Accuracy')\n",
        "plt.xlabel('Epoch')\n",
        "plt.legend(['Training', 'Validation'], loc='upper right')\n",
        "plt.show()\n",
        "\n",
        "# Plot the training and validation loss\n",
        "\n",
        "plt.plot(history19.history['loss'])\n",
        "plt.plot(history19.history['val_loss'])\n",
        "plt.title('Loss vs. epochs')\n",
        "plt.ylabel('Loss')\n",
        "plt.xlabel('Epoch')\n",
        "plt.legend(['Training', 'Validation'], loc='upper right')\n",
        "plt.show()\n",
        "\n",
        "\n",
        "test_loss19, test_accuracy19, recall = cnn_model19.evaluate(test_X, test_y)\n",
        "\n",
        "df19 = pd.DataFrame(history19.history)\n",
        "df19"
      ],
      "execution_count": null,
      "outputs": []
    },
    {
      "cell_type": "markdown",
      "metadata": {
        "id": "bdSu8eYjwXl3"
      },
      "source": [
        "## **1g** : explain which model is the best model fitting your training set? Use this model for the next part"
      ]
    },
    {
      "cell_type": "markdown",
      "metadata": {
        "id": "FVvTDSIOLeYk"
      },
      "source": [
        "# **Best model for fitting the training set: model 19**\n",
        "(traininig set accuracy = 1.0)"
      ]
    },
    {
      "cell_type": "code",
      "metadata": {
        "id": "leCmmj2jM2kX"
      },
      "source": [
        ""
      ],
      "execution_count": null,
      "outputs": []
    },
    {
      "cell_type": "markdown",
      "metadata": {
        "id": "kxHmFHx_Ijh0"
      },
      "source": [
        ""
      ]
    },
    {
      "cell_type": "markdown",
      "metadata": {
        "id": "0Hjgow9-Rgej"
      },
      "source": [
        "##2b. Can you improve your validation performance using L2 regularization?\n"
      ]
    },
    {
      "cell_type": "code",
      "metadata": {
        "id": "wI4RPC2TqbWD"
      },
      "source": [
        "L2 = [0.001, 0.003, 0.005, 0.007, 0.009]\n",
        "for i in L2:\n",
        "  cnn_model = Sequential([\n",
        "                   Conv2D(filters=6, kernel_size=(5,5), strides = (1,1),padding='valid', activation = 'relu', input_shape=(128,128,3)), # note we need 1 in  input_shape=(28,28,1)\n",
        "                    MaxPooling2D(pool_size=(2,2), strides=(2,2), padding='valid'),\n",
        "                    Conv2D(filters=4, kernel_size=(5,5), strides=(1,1), padding='valid', activation = 'relu'),\n",
        "                    MaxPooling2D(pool_size=(2,2), strides=(2,2), padding='valid'),\n",
        "                    Flatten(),\n",
        "                    Dense(64, activation = 'relu', kernel_regularizer=tf.keras.regularizers.l2(i),\n",
        "                          kernel_initializer ='glorot_uniform', bias_initializer = 'ones'),\n",
        "                    Dense(36, activation = 'relu', kernel_regularizer=tf.keras.regularizers.l2(i)),\n",
        "                    Dense(1, activation='sigmoid')\n",
        "])\n",
        "\n",
        "\n",
        "  cnn_model.compile(\n",
        "    optimizer = tf.keras.optimizers.Adam(learning_rate = 0.001), \n",
        "    loss = 'binary_crossentropy', \n",
        "    metrics = [tf.keras.metrics.Recall(), 'binary_accuracy'] \n",
        ")\n",
        "\n",
        "\n",
        "  cnn_checkpoint_path_new= 'model_checkpoints/checkpoint_new'\n",
        "  cnn_checkpoint_new = ModelCheckpoint(filepath=cnn_checkpoint_path_new,\n",
        "                             save_freq='epoch',\n",
        "                             save_weights_only=True,\n",
        "                             save_best_only=True,\n",
        "                             verbose=1)\n",
        "\n",
        "\n",
        "  history = cnn_model.fit(train_X, train_y, epochs = 15, batch_size = 64, verbose = False, validation_data = (cv_X, cv_y), callbacks = [cnn_checkpoint_new])\n",
        "\n",
        "  # Plot the training and validation accuracy with epoch\n",
        "  plt.plot(history.history['binary_accuracy'])\n",
        "  plt.plot(history.history['val_binary_accuracy'])\n",
        "  plt.title('Accuracy vs. epochs')\n",
        "  plt.ylabel('Accuracy')\n",
        "  plt.xlabel('Epoch')\n",
        "  plt.legend(['Training', 'Validation'], loc='upper right')\n",
        "  plt.show()\n",
        "\n",
        "  # Plot the training and validation loss\n",
        "\n",
        "  plt.plot(history.history['loss'])\n",
        "  plt.plot(history.history['val_loss'])\n",
        "  plt.title('Loss vs. epochs')\n",
        "  plt.ylabel('Loss')\n",
        "  plt.xlabel('Epoch')\n",
        "  plt.legend(['Training', 'Validation'], loc='upper right')\n",
        "  plt.show()\n",
        "\n",
        "\n",
        "  test_loss, test_accuracy, recall = cnn_model.evaluate(test_X, test_y)\n",
        "\n",
        "  df_new = pd.DataFrame(history.history)\n",
        "  print(df_new)\n",
        "\n"
      ],
      "execution_count": null,
      "outputs": []
    },
    {
      "cell_type": "markdown",
      "metadata": {
        "id": "qK8tJ0HijGQ-"
      },
      "source": [
        "Improving validation performance using dropout regularization.\n"
      ]
    },
    {
      "cell_type": "code",
      "metadata": {
        "id": "8Lq0lcitwyQo"
      },
      "source": [
        "Dropout_list = [0.1, 0.3, 0.5, 0.7, 0.9]\n",
        "for i in Dropout_list:\n",
        "  cnn_model = Sequential([\n",
        "                          Conv2D(filters=6, kernel_size=(5,5), strides = (1,1),padding='valid', activation = 'relu', input_shape=(128,128,3)), # note we need 1 in  input_shape=(28,28,1)\n",
        "                          MaxPooling2D(pool_size=(2,2), strides=(2,2), padding='valid'),\n",
        "                          Conv2D(filters=4, kernel_size=(5,5), strides=(1,1), padding='valid', activation = 'relu'),\n",
        "                          MaxPooling2D(pool_size=(2,2), strides=(2,2), padding='valid'),\n",
        "                          Flatten(),\n",
        "                          Dense(64, activation = 'relu', kernel_initializer ='glorot_uniform', bias_initializer = 'ones'),\n",
        "                          Dropout(i),\n",
        "                          Dense(36, activation = 'relu'),\n",
        "                          Dropout(i),\n",
        "                          Dense(1, activation='sigmoid')\n",
        "])\n",
        "\n",
        "\n",
        "  cnn_model.compile(\n",
        "    optimizer = tf.keras.optimizers.Adam(learning_rate = 0.001), \n",
        "    loss = 'binary_crossentropy', \n",
        "    metrics = [tf.keras.metrics.Recall(), 'binary_accuracy'] \n",
        ")\n",
        "\n",
        "\n",
        "  cnn_checkpoint_path_new2 = 'model_checkpoints/checkpoint_new2'\n",
        "  cnn_checkpoint_new2 = ModelCheckpoint(filepath=cnn_checkpoint_path_new2,\n",
        "                             save_freq='epoch',\n",
        "                             save_weights_only=True,\n",
        "                             save_best_only=True,\n",
        "                             verbose=1)\n",
        "\n",
        "\n",
        "  history = cnn_model.fit(train_X, train_y, epochs = 15, batch_size = 64, verbose = False, validation_data = (cv_X, cv_y), callbacks = [cnn_checkpoint_new2])\n",
        "\n",
        "  # Plot the training and validation accuracy with epoch\n",
        "  plt.plot(history.history['binary_accuracy'])\n",
        "  plt.plot(history.history['val_binary_accuracy'])\n",
        "  plt.title('Accuracy vs. epochs')\n",
        "  plt.ylabel('Accuracy')\n",
        "  plt.xlabel('Epoch')\n",
        "  plt.legend(['Training', 'Validation'], loc='upper right')\n",
        "  plt.show()\n",
        "\n",
        "  # Plot the training and validation loss\n",
        "\n",
        "  plt.plot(history.history['loss'])\n",
        "  plt.plot(history.history['val_loss'])\n",
        "  plt.title('Loss vs. epochs')\n",
        "  plt.ylabel('Loss')\n",
        "  plt.xlabel('Epoch')\n",
        "  plt.legend(['Training', 'Validation'], loc='upper right')\n",
        "  plt.show()\n",
        "\n",
        "  test_loss, test_accuracy, recall = cnn_model.evaluate(test_X, test_y)\n",
        "\n",
        "  df_new = pd.DataFrame(history.history)\n",
        "  print(df_new)\n",
        "  "
      ],
      "execution_count": null,
      "outputs": []
    },
    {
      "cell_type": "markdown",
      "metadata": {
        "id": "ChPKBW9hj9HG"
      },
      "source": [
        "Improving validation  performance  using  a  mixture  of  dropout regularization and L2 regularization.\n"
      ]
    },
    {
      "cell_type": "code",
      "metadata": {
        "id": "93zagFMSkEUV"
      },
      "source": [
        "L2 = [0.001, 0.003, 0.005, 0.007, 0.009]\n",
        "Dropout_list = [0.1, 0.3, 0.5, 0.7, 0.9]\n",
        "for i in L2:\n",
        "  for j in Dropout_list:\n",
        "    cnn_model = Sequential([\n",
        "                   Conv2D(filters=6, kernel_size=(5,5), strides = (1,1),padding='valid', activation = 'relu', input_shape=(128,128,3)), # note we need 1 in  input_shape=(28,28,1)\n",
        "                    MaxPooling2D(pool_size=(2,2), strides=(2,2), padding='valid'),\n",
        "                    Conv2D(filters=4, kernel_size=(5,5), strides=(1,1), padding='valid', activation = 'relu'),\n",
        "                    MaxPooling2D(pool_size=(2,2), strides=(2,2), padding='valid'),\n",
        "                    Flatten(),\n",
        "                    Dense(64, activation = 'relu', kernel_regularizer=tf.keras.regularizers.l2(i),\n",
        "                          kernel_initializer ='glorot_uniform', bias_initializer = 'ones'),\n",
        "                    Dropout(j),\n",
        "                    Dense(36, activation = 'relu', kernel_regularizer=tf.keras.regularizers.l2(i)),\n",
        "                    Dropout(j),\n",
        "                    Dense(1, activation='sigmoid')\n",
        "    ])\n",
        "\n",
        "    cnn_model.compile(\n",
        "        optimizer = tf.keras.optimizers.Adam(learning_rate = 0.001), \n",
        "        loss = 'binary_crossentropy', \n",
        "        metrics = [tf.keras.metrics.Recall(), 'binary_accuracy'] \n",
        "    )\n",
        "\n",
        "\n",
        "    cnn_checkpoint_path_new3 = 'model_checkpoints/checkpoint_new3'\n",
        "    cnn_checkpoint_new3 = ModelCheckpoint(filepath=cnn_checkpoint_path_new3,\n",
        "                                     save_freq='epoch',\n",
        "                                     save_weights_only=True,\n",
        "                                     save_best_only=True,\n",
        "                                     verbose=1)\n",
        "\n",
        "\n",
        "    history = cnn_model.fit(train_X, train_y, epochs = 15, batch_size = 64, verbose = 2, validation_data = (cv_X, cv_y), callbacks = [cnn_checkpoint_new3])\n",
        "\n",
        "    # Plot the training and validation accuracy with epoch\n",
        "    plt.plot(history.history['binary_accuracy'])\n",
        "    plt.plot(history.history['val_binary_accuracy'])\n",
        "    plt.title('Accuracy vs. epochs')\n",
        "    plt.ylabel('Accuracy')\n",
        "    plt.xlabel('Epoch')\n",
        "    plt.legend(['Training', 'Validation'], loc='upper right')\n",
        "    plt.show()\n",
        "\n",
        "    # Plot the training and validation loss\n",
        "\n",
        "    plt.plot(history.history['loss'])\n",
        "    plt.plot(history.history['val_loss'])\n",
        "    plt.title('Loss vs. epochs')\n",
        "    plt.ylabel('Loss')\n",
        "    plt.xlabel('Epoch')\n",
        "    plt.legend(['Training', 'Validation'], loc='upper right')\n",
        "    plt.show()\n",
        "\n",
        "\n",
        "    test_loss, test_accuracy, recall = cnn_model.evaluate(test_X, test_y)\n",
        "\n",
        "    df_new = pd.DataFrame(history.history)\n",
        "    print(df_new)\n",
        "\n",
        "    "
      ],
      "execution_count": null,
      "outputs": []
    },
    {
      "cell_type": "markdown",
      "metadata": {
        "id": "2g_v_efnsMdM"
      },
      "source": [
        "Improving validation  performance  using  batch-normalization?\n",
        " "
      ]
    },
    {
      "cell_type": "markdown",
      "metadata": {
        "id": "kY3gpZCDsYTB"
      },
      "source": [
        "(one  model   with   default   TF   batch-normalization parameters and four models with customized parameters) "
      ]
    },
    {
      "cell_type": "code",
      "metadata": {
        "id": "-Au9Mah2tRA3"
      },
      "source": [
        "cnn_model_bn = Sequential([\n",
        "                        Conv2D(filters=6, kernel_size=(5,5), strides = (1,1),padding='valid', activation = 'relu', input_shape=(128,128,3)), # note we need 1 in  input_shape=(28,28,1)\n",
        "                        MaxPooling2D(pool_size=(2,2), strides=(2,2), padding='valid'),\n",
        "                        Conv2D(filters=4, kernel_size=(5,5), strides=(1,1), padding='valid', activation = 'relu'),\n",
        "                        MaxPooling2D(pool_size=(2,2), strides=(2,2), padding='valid'),\n",
        "                        Flatten(), Dense(64, activation = 'relu', kernel_regularizer=tf.keras.regularizers.l2(0.003),\n",
        "                                         kernel_initializer ='glorot_uniform', bias_initializer = 'ones'),\n",
        "                        Dropout(0.1),\n",
        "                        Dense(36, activation = 'relu', kernel_regularizer=tf.keras.regularizers.l2(0.003)),\n",
        "                        BatchNormalization(),\n",
        "                        Dropout(0.1),\n",
        "                        BatchNormalization(),\n",
        "                        Dense(1, activation='sigmoid')])\n",
        "\n",
        "cnn_model_bn.compile(\n",
        "    optimizer = tf.keras.optimizers.Adam(learning_rate = 0.001), \n",
        "    loss = 'binary_crossentropy', \n",
        "    metrics = [tf.keras.metrics.Recall(), 'binary_accuracy'] \n",
        "    )\n",
        "\n",
        "\n",
        "cnn_checkpoint_path_bn = 'model_checkpoints/checkpoint_bn'\n",
        "cnn_checkpoint_bn = ModelCheckpoint(filepath=cnn_checkpoint_path_bn,\n",
        "                                      save_freq='epoch',\n",
        "                                      save_weights_only=True,\n",
        "                                      save_best_only=True,\n",
        "                                      verbose=1)\n",
        "\n",
        "\n",
        "history = cnn_model_bn.fit(train_X, train_y, epochs = 15, batch_size = 64, verbose = 2, validation_data = (cv_X, cv_y), \n",
        "                           callbacks = [cnn_checkpoint_bn])\n",
        "\n",
        "# Plot the training and validation accuracy with epoch\n",
        "plt.plot(history.history['binary_accuracy'])\n",
        "plt.plot(history.history['val_binary_accuracy'])\n",
        "plt.title('Accuracy vs. epochs')\n",
        "plt.ylabel('Accuracy')\n",
        "plt.xlabel('Epoch')\n",
        "plt.legend(['Training', 'Validation'], loc='upper right')\n",
        "plt.show()\n",
        "\n",
        "    # Plot the training and validation loss\n",
        "\n",
        "plt.plot(history.history['loss'])\n",
        "plt.plot(history.history['val_loss'])\n",
        "plt.title('Loss vs. epochs')\n",
        "plt.ylabel('Loss')\n",
        "plt.xlabel('Epoch')\n",
        "plt.legend(['Training', 'Validation'], loc='upper right')\n",
        "plt.show()\n",
        "\n",
        "\n",
        "test_loss, test_accuracy, recall = cnn_model_bn.evaluate(test_X, test_y)\n",
        "\n",
        "df_new = pd.DataFrame(history.history)\n",
        "print(df_new)\n"
      ],
      "execution_count": null,
      "outputs": []
    },
    {
      "cell_type": "markdown",
      "metadata": {
        "id": "Ao_Kmb2hwM4c"
      },
      "source": [
        "momentum=0.95,epsilon=0.005"
      ]
    },
    {
      "cell_type": "code",
      "metadata": {
        "id": "l-KCcUltuCqu"
      },
      "source": [
        "cnn_model_bn1 = Sequential([\n",
        "                        Conv2D(filters=6, kernel_size=(5,5), strides = (1,1),padding='valid', activation = 'relu', input_shape=(128,128,3)), # note we need 1 in  input_shape=(28,28,1)\n",
        "                        MaxPooling2D(pool_size=(2,2), strides=(2,2), padding='valid'),\n",
        "                        Conv2D(filters=4, kernel_size=(5,5), strides=(1,1), padding='valid', activation = 'relu'),\n",
        "                        MaxPooling2D(pool_size=(2,2), strides=(2,2), padding='valid'),\n",
        "                        Flatten(), Dense(64, activation = 'relu', kernel_regularizer=tf.keras.regularizers.l2(0.003),\n",
        "                                         kernel_initializer ='glorot_uniform', bias_initializer = 'ones'),\n",
        "                        Dropout(0.1),\n",
        "                        Dense(36, activation = 'relu', kernel_regularizer=tf.keras.regularizers.l2(0.003)),\n",
        "                        BatchNormalization(momentum=0.95,epsilon=0.005),\n",
        "                        Dropout(0.1),\n",
        "                        BatchNormalization(momentum=0.95,epsilon=0.005),\n",
        "                        Dense(1, activation='sigmoid')])\n",
        "\n",
        "cnn_model_bn1.compile(\n",
        "    optimizer = tf.keras.optimizers.Adam(learning_rate = 0.001), \n",
        "    loss = 'binary_crossentropy', \n",
        "    metrics = [tf.keras.metrics.Recall(), 'binary_accuracy'] \n",
        "    )\n",
        "\n",
        "cnn_checkpoint_path_bn1 = 'model_checkpoints/checkpoint_bn1'\n",
        "cnn_checkpoint_bn1 = ModelCheckpoint(filepath=cnn_checkpoint_path_bn1,\n",
        "                                      save_freq='epoch',\n",
        "                                      save_weights_only=True,\n",
        "                                      save_best_only=True,\n",
        "                                      verbose=1)\n",
        "\n",
        "\n",
        "history = cnn_model_bn1.fit(train_X, train_y, epochs = 15, batch_size = 64, verbose = 2, validation_data = (cv_X, cv_y), \n",
        "                            callbacks = [cnn_checkpoint_bn1])\n",
        "\n",
        "# Plot the training and validation accuracy with epoch\n",
        "plt.plot(history.history['binary_accuracy'])\n",
        "plt.plot(history.history['val_binary_accuracy'])\n",
        "plt.title('Accuracy vs. epochs')\n",
        "plt.ylabel('Accuracy')\n",
        "plt.xlabel('Epoch')\n",
        "plt.legend(['Training', 'Validation'], loc='upper right')\n",
        "plt.show()\n",
        "\n",
        "    # Plot the training and validation loss\n",
        "\n",
        "plt.plot(history.history['loss'])\n",
        "plt.plot(history.history['val_loss'])\n",
        "plt.title('Loss vs. epochs')\n",
        "plt.ylabel('Loss')\n",
        "plt.xlabel('Epoch')\n",
        "plt.legend(['Training', 'Validation'], loc='upper right')\n",
        "plt.show()\n",
        "\n",
        "\n",
        "test_loss, test_accuracy, recall = cnn_model_bn1.evaluate(test_X, test_y)\n",
        "\n",
        "df_new = pd.DataFrame(history.history)\n",
        "print(df_new)\n"
      ],
      "execution_count": null,
      "outputs": []
    },
    {
      "cell_type": "markdown",
      "metadata": {
        "id": "M4t_TF9x2EtK"
      },
      "source": [
        "momentum=0.90,epsilon=0.01"
      ]
    },
    {
      "cell_type": "code",
      "metadata": {
        "id": "iMhMoTGf2ENP"
      },
      "source": [
        "cnn_model_bn2 = Sequential([\n",
        "                        Conv2D(filters=6, kernel_size=(5,5), strides = (1,1),padding='valid', activation = 'relu', input_shape=(128,128,3)), # note we need 1 in  input_shape=(28,28,1)\n",
        "                        MaxPooling2D(pool_size=(2,2), strides=(2,2), padding='valid'),\n",
        "                        Conv2D(filters=4, kernel_size=(5,5), strides=(1,1), padding='valid', activation = 'relu'),\n",
        "                        MaxPooling2D(pool_size=(2,2), strides=(2,2), padding='valid'),\n",
        "                        Flatten(), Dense(64, activation = 'relu', kernel_regularizer=tf.keras.regularizers.l2(0.003),\n",
        "                                         kernel_initializer ='glorot_uniform', bias_initializer = 'ones'),\n",
        "                        Dropout(0.1),\n",
        "                        Dense(36, activation = 'relu', kernel_regularizer=tf.keras.regularizers.l2(0.003)),\n",
        "                        BatchNormalization(momentum=0.90,epsilon=0.01),\n",
        "                        Dropout(0.1),\n",
        "                        BatchNormalization(momentum=0.90,epsilon=0.01),\n",
        "                        Dense(1, activation='sigmoid')])\n",
        "\n",
        "cnn_model_bn2.compile(\n",
        "    optimizer = tf.keras.optimizers.Adam(learning_rate = 0.001), \n",
        "    loss = 'binary_crossentropy', \n",
        "    metrics = [tf.keras.metrics.Recall(), 'binary_accuracy'] \n",
        "    )\n",
        "\n",
        "cnn_checkpoint_path_bn2 = 'model_checkpoints/checkpoint_bn2'\n",
        "cnn_checkpoint_bn2 = ModelCheckpoint(filepath=cnn_checkpoint_path_bn2,\n",
        "                                      save_freq='epoch',\n",
        "                                      save_weights_only=True,\n",
        "                                      save_best_only=True,\n",
        "                                      verbose=1)\n",
        "\n",
        "\n",
        "history = cnn_model_bn2.fit(train_X, train_y, epochs = 15, batch_size = 64, \n",
        "                            verbose = 2, validation_data = (cv_X, cv_y), \n",
        "                            callbacks = [cnn_checkpoint_bn2])\n",
        "\n",
        "# Plot the training and validation accuracy with epoch\n",
        "plt.plot(history.history['binary_accuracy'])\n",
        "plt.plot(history.history['val_binary_accuracy'])\n",
        "plt.title('Accuracy vs. epochs')\n",
        "plt.ylabel('Accuracy')\n",
        "plt.xlabel('Epoch')\n",
        "plt.legend(['Training', 'Validation'], loc='upper right')\n",
        "plt.show()\n",
        "\n",
        "    # Plot the training and validation loss\n",
        "\n",
        "plt.plot(history.history['loss'])\n",
        "plt.plot(history.history['val_loss'])\n",
        "plt.title('Loss vs. epochs')\n",
        "plt.ylabel('Loss')\n",
        "plt.xlabel('Epoch')\n",
        "plt.legend(['Training', 'Validation'], loc='upper right')\n",
        "plt.show()\n",
        "\n",
        "\n",
        "test_loss, test_accuracy, recall = cnn_model_bn2.evaluate(test_X, test_y)\n",
        "\n",
        "df_new = pd.DataFrame(history.history)\n",
        "print(df_new)\n"
      ],
      "execution_count": null,
      "outputs": []
    },
    {
      "cell_type": "markdown",
      "metadata": {
        "id": "WHlfw_Ly2sGx"
      },
      "source": [
        "momentum=0.85, epsilon=0.015\n",
        "\n"
      ]
    },
    {
      "cell_type": "code",
      "metadata": {
        "id": "GQooSfWe2st2"
      },
      "source": [
        "cnn_model_bn3 = Sequential([\n",
        "                        Conv2D(filters=6, kernel_size=(5,5), strides = (1,1),padding='valid', activation = 'relu', input_shape=(128,128,3)), # note we need 1 in  input_shape=(28,28,1)\n",
        "                        MaxPooling2D(pool_size=(2,2), strides=(2,2), padding='valid'),\n",
        "                        Conv2D(filters=4, kernel_size=(5,5), strides=(1,1), padding='valid', activation = 'relu'),\n",
        "                        MaxPooling2D(pool_size=(2,2), strides=(2,2), padding='valid'),\n",
        "                        Flatten(), Dense(64, activation = 'relu', kernel_regularizer=tf.keras.regularizers.l2(0.003),\n",
        "                                         kernel_initializer ='glorot_uniform', bias_initializer = 'ones'),\n",
        "                        Dropout(0.1),\n",
        "                        Dense(36, activation = 'relu', kernel_regularizer=tf.keras.regularizers.l2(0.003)),\n",
        "                        BatchNormalization(momentum=0.85,epsilon=0.015),\n",
        "                        Dropout(0.1),\n",
        "                        BatchNormalization(momentum=0.85,epsilon=0.015),\n",
        "                        Dense(1, activation='sigmoid')])\n",
        "\n",
        "cnn_model_bn3.compile(\n",
        "    optimizer = tf.keras.optimizers.Adam(learning_rate = 0.001), \n",
        "    loss = 'binary_crossentropy', \n",
        "    metrics = [tf.keras.metrics.Recall(), 'binary_accuracy'] \n",
        "    )\n",
        "\n",
        "cnn_checkpoint_path_bn3 = 'model_checkpoints/checkpoint_bn3'\n",
        "cnn_checkpoint_bn3 = ModelCheckpoint(filepath=cnn_checkpoint_path_bn3,\n",
        "                                      save_freq='epoch',\n",
        "                                      save_weights_only=True,\n",
        "                                      save_best_only=True,\n",
        "                                      verbose=1)\n",
        "\n",
        "\n",
        "history = cnn_model_bn3.fit(train_X, train_y, epochs = 15, batch_size = 64, \n",
        "                            verbose = 2, validation_data = (cv_X, cv_y), \n",
        "                            callbacks = [cnn_checkpoint_bn3])\n",
        "\n",
        "# Plot the training and validation accuracy with epoch\n",
        "plt.plot(history.history['binary_accuracy'])\n",
        "plt.plot(history.history['val_binary_accuracy'])\n",
        "plt.title('Accuracy vs. epochs')\n",
        "plt.ylabel('Accuracy')\n",
        "plt.xlabel('Epoch')\n",
        "plt.legend(['Training', 'Validation'], loc='upper right')\n",
        "plt.show()\n",
        "\n",
        "    # Plot the training and validation loss\n",
        "\n",
        "plt.plot(history.history['loss'])\n",
        "plt.plot(history.history['val_loss'])\n",
        "plt.title('Loss vs. epochs')\n",
        "plt.ylabel('Loss')\n",
        "plt.xlabel('Epoch')\n",
        "plt.legend(['Training', 'Validation'], loc='upper right')\n",
        "plt.show()\n",
        "\n",
        "\n",
        "test_loss, test_accuracy, recall = cnn_model_bn3.evaluate(test_X, test_y)\n",
        "\n",
        "df_new = pd.DataFrame(history.history)\n",
        "print(df_new)\n"
      ],
      "execution_count": null,
      "outputs": []
    },
    {
      "cell_type": "markdown",
      "metadata": {
        "id": "HRfTAdja3iY5"
      },
      "source": [
        "momentum=0.8,epsilon=0.02"
      ]
    },
    {
      "cell_type": "code",
      "metadata": {
        "id": "m6e7ewdZ3iuc"
      },
      "source": [
        "cnn_model_bn4 = Sequential([\n",
        "                        Conv2D(filters=6, kernel_size=(5,5), strides = (1,1),padding='valid', activation = 'relu', input_shape=(128,128,3)), # note we need 1 in  input_shape=(28,28,1)\n",
        "                        MaxPooling2D(pool_size=(2,2), strides=(2,2), padding='valid'),\n",
        "                        Conv2D(filters=4, kernel_size=(5,5), strides=(1,1), padding='valid', activation = 'relu'),\n",
        "                        MaxPooling2D(pool_size=(2,2), strides=(2,2), padding='valid'),\n",
        "                        Flatten(), Dense(64, activation = 'relu', kernel_regularizer=tf.keras.regularizers.l2(0.003),\n",
        "                                         kernel_initializer ='glorot_uniform', bias_initializer = 'ones'),\n",
        "                        Dropout(0.1),\n",
        "                        Dense(36, activation = 'relu', kernel_regularizer=tf.keras.regularizers.l2(0.003)),\n",
        "                        BatchNormalization(momentum=0.8,epsilon=0.02),\n",
        "                        Dropout(0.1),\n",
        "                        BatchNormalization(momentum=0.8,epsilon=0.02),\n",
        "                        Dense(1, activation='sigmoid')])\n",
        "\n",
        "cnn_model_bn4.compile(\n",
        "    optimizer = tf.keras.optimizers.Adam(learning_rate = 0.001), \n",
        "    loss = 'binary_crossentropy', \n",
        "    metrics = [tf.keras.metrics.Recall(), 'binary_accuracy'] \n",
        "    )\n",
        "\n",
        "cnn_checkpoint_path_bn4 = 'model_checkpoints/checkpoint_bn4'\n",
        "cnn_checkpoint_bn4 = ModelCheckpoint(filepath=cnn_checkpoint_path_bn4,\n",
        "                                      save_freq='epoch',\n",
        "                                      save_weights_only=True,\n",
        "                                      save_best_only=True,\n",
        "                                      verbose=1)\n",
        "\n",
        "\n",
        "history = cnn_model_bn4.fit(train_X, train_y, epochs = 15, batch_size = 64, \n",
        "                            verbose = 2, validation_data = (cv_X, cv_y), \n",
        "                            callbacks = [cnn_checkpoint_bn4])\n",
        "\n",
        "# Plot the training and validation accuracy with epoch\n",
        "plt.plot(history.history['binary_accuracy'])\n",
        "plt.plot(history.history['val_binary_accuracy'])\n",
        "plt.title('Accuracy vs. epochs')\n",
        "plt.ylabel('Accuracy')\n",
        "plt.xlabel('Epoch')\n",
        "plt.legend(['Training', 'Validation'], loc='upper right')\n",
        "plt.show()\n",
        "\n",
        "    # Plot the training and validation loss\n",
        "\n",
        "plt.plot(history.history['loss'])\n",
        "plt.plot(history.history['val_loss'])\n",
        "plt.title('Loss vs. epochs')\n",
        "plt.ylabel('Loss')\n",
        "plt.xlabel('Epoch')\n",
        "plt.legend(['Training', 'Validation'], loc='upper right')\n",
        "plt.show()\n",
        "\n",
        "\n",
        "test_loss, test_accuracy, recall = cnn_model_bn4.evaluate(test_X, test_y)\n",
        "\n",
        "df_new = pd.DataFrame(history.history)\n",
        "print(df_new)\n"
      ],
      "execution_count": null,
      "outputs": []
    },
    {
      "cell_type": "markdown",
      "metadata": {
        "id": "iwTzWdm-4XyR"
      },
      "source": [
        "Improving validation  performance  using  a  mixture  of  batch-normalization and dropout regularization\n",
        "\n"
      ]
    },
    {
      "cell_type": "code",
      "metadata": {
        "id": "wvYEu6Xs9yQM"
      },
      "source": [
        "cnn_model_bndo = Sequential([\n",
        "                        Conv2D(filters=6, kernel_size=(5,5), strides = (1,1),padding='valid', activation = 'relu', input_shape=(128,128,3)), # note we need 1 in  input_shape=(28,28,1)\n",
        "                        MaxPooling2D(pool_size=(2,2), strides=(2,2), padding='valid'),\n",
        "                        Conv2D(filters=4, kernel_size=(5,5), strides=(1,1), padding='valid', activation = 'relu'),\n",
        "                        MaxPooling2D(pool_size=(2,2), strides=(2,2), padding='valid'),\n",
        "                        Flatten(), Dense(64, activation = 'relu', kernel_regularizer=tf.keras.regularizers.l2(0.003),\n",
        "                                         kernel_initializer ='glorot_uniform', bias_initializer = 'ones'),\n",
        "                        Dropout(0.1),\n",
        "                        Dense(36, activation = 'relu', kernel_regularizer=tf.keras.regularizers.l2(0.003)),\n",
        "                        BatchNormalization(momentum=0.90,epsilon=0.01),\n",
        "                        Dropout(0.1),\n",
        "                        BatchNormalization(momentum=0.90,epsilon=0.01),\n",
        "                        Dense(1, activation='sigmoid')])\n",
        "\n",
        "cnn_model_bndo.compile(\n",
        "    optimizer = tf.keras.optimizers.Adam(learning_rate = 0.001), \n",
        "    loss = 'binary_crossentropy', \n",
        "    metrics = [tf.keras.metrics.Recall(), 'binary_accuracy'] \n",
        "    )\n",
        "\n",
        "cnn_checkpoint_path_bndo = 'model_checkpoints/checkpoint_bndo'\n",
        "cnn_checkpoint_bndo = ModelCheckpoint(filepath=cnn_checkpoint_path_bndo,\n",
        "                                      save_freq='epoch',\n",
        "                                      save_weights_only=True,\n",
        "                                      save_best_only=True,\n",
        "                                      verbose=1)\n",
        "\n",
        "\n",
        "history = cnn_model_bndo.fit(train_X, train_y, epochs = 15, batch_size = 64, \n",
        "                            verbose = 2, validation_data = (cv_X, cv_y), \n",
        "                            callbacks = [cnn_checkpoint_bndo])\n",
        "\n",
        "# Plot the training and validation accuracy with epoch\n",
        "plt.plot(history.history['binary_accuracy'])\n",
        "plt.plot(history.history['val_binary_accuracy'])\n",
        "plt.title('Accuracy vs. epochs')\n",
        "plt.ylabel('Accuracy')\n",
        "plt.xlabel('Epoch')\n",
        "plt.legend(['Training', 'Validation'], loc='upper right')\n",
        "plt.show()\n",
        "\n",
        "    # Plot the training and validation loss\n",
        "\n",
        "plt.plot(history.history['loss'])\n",
        "plt.plot(history.history['val_loss'])\n",
        "plt.title('Loss vs. epochs')\n",
        "plt.ylabel('Loss')\n",
        "plt.xlabel('Epoch')\n",
        "plt.legend(['Training', 'Validation'], loc='upper right')\n",
        "plt.show()\n",
        "\n",
        "\n",
        "test_loss, test_accuracy, recall = cnn_model_bndo.evaluate(test_X, test_y)\n",
        "\n",
        "df_new = pd.DataFrame(history.history)\n",
        "print(df_new)\n"
      ],
      "execution_count": null,
      "outputs": []
    },
    {
      "cell_type": "markdown",
      "metadata": {
        "id": "yGYnZ8yC_Kkj"
      },
      "source": [
        "2  \n",
        "BatchNorm: momentum=0.96, epsilon=0.002  \n",
        "DropRate: 0.08  "
      ]
    },
    {
      "cell_type": "code",
      "metadata": {
        "id": "Ne1Eowuy4cix"
      },
      "source": [
        "cnn_model_bndo2 = Sequential([\n",
        "                        Conv2D(filters=6, kernel_size=(5,5), strides = (1,1),padding='valid', activation = 'relu', input_shape=(128,128,3)), # note we need 1 in  input_shape=(28,28,1)\n",
        "                        MaxPooling2D(pool_size=(2,2), strides=(2,2), padding='valid'),\n",
        "                        Conv2D(filters=4, kernel_size=(5,5), strides=(1,1), padding='valid', activation = 'relu'),\n",
        "                        MaxPooling2D(pool_size=(2,2), strides=(2,2), padding='valid'),\n",
        "                        Flatten(), Dense(64, activation = 'relu', kernel_regularizer=tf.keras.regularizers.l2(0.003),\n",
        "                                         kernel_initializer ='glorot_uniform', bias_initializer = 'ones'),\n",
        "                        Dropout(0.08),\n",
        "                        Dense(36, activation = 'relu', kernel_regularizer=tf.keras.regularizers.l2(0.003)),\n",
        "                        BatchNormalization(momentum=0.96,epsilon=0.002),\n",
        "                        Dropout(0.08),\n",
        "                        BatchNormalization(momentum=0.96,epsilon=0.002),\n",
        "                        Dense(1, activation='sigmoid')])\n",
        "\n",
        "cnn_model_bndo2.compile(\n",
        "    optimizer = tf.keras.optimizers.Adam(learning_rate = 0.001), \n",
        "    loss = 'binary_crossentropy', \n",
        "    metrics = [tf.keras.metrics.Recall(), 'binary_accuracy'] \n",
        "    )\n",
        "\n",
        "cnn_checkpoint_path_bndo2 = 'model_checkpoints/checkpoint_bndo2'\n",
        "cnn_checkpoint_bndo2 = ModelCheckpoint(filepath=cnn_checkpoint_path_bndo2,\n",
        "                                      save_freq='epoch',\n",
        "                                      save_weights_only=True,\n",
        "                                      save_best_only=True,\n",
        "                                      verbose=1)\n",
        "\n",
        "\n",
        "history = cnn_model_bndo2.fit(train_X, train_y, epochs = 15, batch_size = 64, \n",
        "                            verbose = 2, validation_data = (cv_X, cv_y), \n",
        "                            callbacks = [cnn_checkpoint_bndo2])\n",
        "\n",
        "# Plot the training and validation accuracy with epoch\n",
        "plt.plot(history.history['binary_accuracy'])\n",
        "plt.plot(history.history['val_binary_accuracy'])\n",
        "plt.title('Accuracy vs. epochs')\n",
        "plt.ylabel('Accuracy')\n",
        "plt.xlabel('Epoch')\n",
        "plt.legend(['Training', 'Validation'], loc='upper right')\n",
        "plt.show()\n",
        "\n",
        "    # Plot the training and validation loss\n",
        "\n",
        "plt.plot(history.history['loss'])\n",
        "plt.plot(history.history['val_loss'])\n",
        "plt.title('Loss vs. epochs')\n",
        "plt.ylabel('Loss')\n",
        "plt.xlabel('Epoch')\n",
        "plt.legend(['Training', 'Validation'], loc='upper right')\n",
        "plt.show()\n",
        "\n",
        "\n",
        "test_loss, test_accuracy, recall = cnn_model_bndo2.evaluate(test_X, test_y)\n",
        "\n",
        "df_new = pd.DataFrame(history.history)\n",
        "print(df_new)\n"
      ],
      "execution_count": null,
      "outputs": []
    },
    {
      "cell_type": "markdown",
      "metadata": {
        "id": "2FROiYxz_Dra"
      },
      "source": [
        "3  \n",
        "BatchNorm:momentum=0.92, epsilon=0.005  \n",
        "DropRate: 0.06"
      ]
    },
    {
      "cell_type": "code",
      "metadata": {
        "id": "twgI0whO-YN4"
      },
      "source": [
        "cnn_model_bndo3 = Sequential([\n",
        "                        Conv2D(filters=6, kernel_size=(5,5), strides = (1,1),padding='valid', activation = 'relu', input_shape=(128,128,3)), # note we need 1 in  input_shape=(28,28,1)\n",
        "                        MaxPooling2D(pool_size=(2,2), strides=(2,2), padding='valid'),\n",
        "                        Conv2D(filters=4, kernel_size=(5,5), strides=(1,1), padding='valid', activation = 'relu'),\n",
        "                        MaxPooling2D(pool_size=(2,2), strides=(2,2), padding='valid'),\n",
        "                        Flatten(), Dense(64, activation = 'relu', kernel_regularizer=tf.keras.regularizers.l2(0.003),\n",
        "                                         kernel_initializer ='glorot_uniform', bias_initializer = 'ones'),\n",
        "                        Dropout(0.06),\n",
        "                        Dense(36, activation = 'relu', kernel_regularizer=tf.keras.regularizers.l2(0.003)),\n",
        "                        BatchNormalization(momentum=0.92,epsilon=0.005),\n",
        "                        Dropout(0.06),\n",
        "                        BatchNormalization(momentum=0.92,epsilon=0.005),\n",
        "                        Dense(1, activation='sigmoid')])\n",
        "\n",
        "cnn_model_bndo3.compile(\n",
        "    optimizer = tf.keras.optimizers.Adam(learning_rate = 0.001), \n",
        "    loss = 'binary_crossentropy', \n",
        "    metrics = [tf.keras.metrics.Recall(), 'binary_accuracy'] \n",
        "    )\n",
        "\n",
        "cnn_checkpoint_path_bndo3 = 'model_checkpoints/checkpoint_bndo3'\n",
        "cnn_checkpoint_bndo3 = ModelCheckpoint(filepath=cnn_checkpoint_path_bndo3,\n",
        "                                      save_freq='epoch',\n",
        "                                      save_weights_only=True,\n",
        "                                      save_best_only=True,\n",
        "                                      verbose=1)\n",
        "\n",
        "\n",
        "history = cnn_model_bndo3.fit(train_X, train_y, epochs = 15, batch_size = 64, \n",
        "                            verbose = 2, validation_data = (cv_X, cv_y), \n",
        "                            callbacks = [cnn_checkpoint_bndo3])\n",
        "\n",
        "# Plot the training and validation accuracy with epoch\n",
        "plt.plot(history.history['binary_accuracy'])\n",
        "plt.plot(history.history['val_binary_accuracy'])\n",
        "plt.title('Accuracy vs. epochs')\n",
        "plt.ylabel('Accuracy')\n",
        "plt.xlabel('Epoch')\n",
        "plt.legend(['Training', 'Validation'], loc='upper right')\n",
        "plt.show()\n",
        "\n",
        "    # Plot the training and validation loss\n",
        "\n",
        "plt.plot(history.history['loss'])\n",
        "plt.plot(history.history['val_loss'])\n",
        "plt.title('Loss vs. epochs')\n",
        "plt.ylabel('Loss')\n",
        "plt.xlabel('Epoch')\n",
        "plt.legend(['Training', 'Validation'], loc='upper right')\n",
        "plt.show()\n",
        "\n",
        "\n",
        "test_loss, test_accuracy, recall = cnn_model_bndo3.evaluate(test_X, test_y)\n",
        "\n",
        "df_new = pd.DataFrame(history.history)\n",
        "print(df_new)\n"
      ],
      "execution_count": null,
      "outputs": []
    },
    {
      "cell_type": "markdown",
      "metadata": {
        "id": "eoGgB5ZZ_T27"
      },
      "source": [
        "4  \n",
        "BatchNorm: momentum=0.90, epsilon=0.006  \n",
        "DropRate: 0.04  "
      ]
    },
    {
      "cell_type": "code",
      "metadata": {
        "id": "tGgtS3p0_AwW"
      },
      "source": [
        "cnn_model_bndo4 = Sequential([\n",
        "                        Conv2D(filters=6, kernel_size=(5,5), strides = (1,1),padding='valid', activation = 'relu', input_shape=(128,128,3)), # note we need 1 in  input_shape=(28,28,1)\n",
        "                        MaxPooling2D(pool_size=(2,2), strides=(2,2), padding='valid'),\n",
        "                        Conv2D(filters=4, kernel_size=(5,5), strides=(1,1), padding='valid', activation = 'relu'),\n",
        "                        MaxPooling2D(pool_size=(2,2), strides=(2,2), padding='valid'),\n",
        "                        Flatten(), Dense(64, activation = 'relu', kernel_regularizer=tf.keras.regularizers.l2(0.003),\n",
        "                                         kernel_initializer ='glorot_uniform', bias_initializer = 'ones'),\n",
        "                        Dropout(0.04),\n",
        "                        Dense(36, activation = 'relu', kernel_regularizer=tf.keras.regularizers.l2(0.003)),\n",
        "                        BatchNormalization(momentum=0.90, epsilon=0.006),\n",
        "                        Dropout(0.04),\n",
        "                        BatchNormalization(momentum=0.90, epsilon=0.006),\n",
        "                        Dense(1, activation='sigmoid')])\n",
        "\n",
        "cnn_model_bndo4.compile(\n",
        "    optimizer = tf.keras.optimizers.Adam(learning_rate = 0.001), \n",
        "    loss = 'binary_crossentropy', \n",
        "    metrics = [tf.keras.metrics.Recall(), 'binary_accuracy'])\n",
        "\n",
        "cnn_checkpoint_path_bndo4 = 'model_checkpoints/checkpoint_bndo4'\n",
        "cnn_checkpoint_bndo4 = ModelCheckpoint(filepath=cnn_checkpoint_path_bndo4,\n",
        "                                      save_freq='epoch',\n",
        "                                      save_weights_only=True,\n",
        "                                      save_best_only=True,\n",
        "                                      verbose=1)\n",
        "\n",
        "history = cnn_model_bndo4.fit(train_X, train_y, epochs = 15, batch_size = 64, \n",
        "                            verbose = 2, validation_data = (cv_X, cv_y), \n",
        "                            callbacks = [cnn_checkpoint_bndo4])\n",
        "\n",
        "# Plot the training and validation accuracy with epoch\n",
        "plt.plot(history.history['binary_accuracy'])\n",
        "plt.plot(history.history['val_binary_accuracy'])\n",
        "plt.title('Accuracy vs. epochs')\n",
        "plt.ylabel('Accuracy')\n",
        "plt.xlabel('Epoch')\n",
        "plt.legend(['Training', 'Validation'], loc='upper right')\n",
        "plt.show()\n",
        "\n",
        "    # Plot the training and validation loss\n",
        "\n",
        "plt.plot(history.history['loss'])\n",
        "plt.plot(history.history['val_loss'])\n",
        "plt.title('Loss vs. epochs')\n",
        "plt.ylabel('Loss')\n",
        "plt.xlabel('Epoch')\n",
        "plt.legend(['Training', 'Validation'], loc='upper right')\n",
        "plt.show()\n",
        "\n",
        "\n",
        "test_loss, test_accuracy, recall = cnn_model_bndo4.evaluate(test_X, test_y)\n",
        "\n",
        "df_new = pd.DataFrame(history.history)\n",
        "print(df_new)\n"
      ],
      "execution_count": null,
      "outputs": []
    },
    {
      "cell_type": "markdown",
      "metadata": {
        "id": "6y83VHkaAK7f"
      },
      "source": [
        "5  \n",
        "BatchNorm: momentum=0.70, epsilon=0.1  \n",
        "DropRate:0.3  "
      ]
    },
    {
      "cell_type": "code",
      "metadata": {
        "id": "IPwcMeNbALgg"
      },
      "source": [
        "cnn_model_bndo5 = Sequential([\n",
        "                        Conv2D(filters=6, kernel_size=(5,5), strides = (1,1),padding='valid', activation = 'relu', input_shape=(128,128,3)), # note we need 1 in  input_shape=(28,28,1)\n",
        "                        MaxPooling2D(pool_size=(2,2), strides=(2,2), padding='valid'),\n",
        "                        Conv2D(filters=4, kernel_size=(5,5), strides=(1,1), padding='valid', activation = 'relu'),\n",
        "                        MaxPooling2D(pool_size=(2,2), strides=(2,2), padding='valid'),\n",
        "                        Flatten(), Dense(64, activation = 'relu', kernel_regularizer=tf.keras.regularizers.l2(0.003),\n",
        "                                         kernel_initializer ='glorot_uniform', bias_initializer = 'ones'),\n",
        "                        Dropout(0.3),\n",
        "                        Dense(36, activation = 'relu', kernel_regularizer=tf.keras.regularizers.l2(0.003)),\n",
        "                        BatchNormalization(momentum=0.70, epsilon=0.1),\n",
        "                        Dropout(0.3),\n",
        "                        BatchNormalization(momentum=0.70, epsilon=0.1),\n",
        "                        Dense(1, activation='sigmoid')])\n",
        "\n",
        "cnn_model_bndo5.compile(\n",
        "    optimizer = tf.keras.optimizers.Adam(learning_rate = 0.001), \n",
        "    loss = 'binary_crossentropy', \n",
        "    metrics = [tf.keras.metrics.Recall(), 'binary_accuracy'])\n",
        "\n",
        "cnn_checkpoint_path_bndo5 = 'model_checkpoints/checkpoint_bndo5'\n",
        "cnn_checkpoint_bndo5 = ModelCheckpoint(filepath=cnn_checkpoint_path_bndo5,\n",
        "                                      save_freq='epoch',\n",
        "                                      save_weights_only=True,\n",
        "                                      save_best_only=True,\n",
        "                                      verbose=1)\n",
        "\n",
        "history = cnn_model_bndo5.fit(train_X, train_y, epochs = 15, batch_size = 64, \n",
        "                            verbose = 2, validation_data = (cv_X, cv_y), \n",
        "                            callbacks = [cnn_checkpoint_bndo5])\n",
        "\n",
        "# Plot the training and validation accuracy with epoch\n",
        "plt.plot(history.history['binary_accuracy'])\n",
        "plt.plot(history.history['val_binary_accuracy'])\n",
        "plt.title('Accuracy vs. epochs')\n",
        "plt.ylabel('Accuracy')\n",
        "plt.xlabel('Epoch')\n",
        "plt.legend(['Training', 'Validation'], loc='upper right')\n",
        "plt.show()\n",
        "\n",
        "    # Plot the training and validation loss\n",
        "\n",
        "plt.plot(history.history['loss'])\n",
        "plt.plot(history.history['val_loss'])\n",
        "plt.title('Loss vs. epochs')\n",
        "plt.ylabel('Loss')\n",
        "plt.xlabel('Epoch')\n",
        "plt.legend(['Training', 'Validation'], loc='upper right')\n",
        "plt.show()\n",
        "\n",
        "\n",
        "test_loss, test_accuracy, recall = cnn_model_bndo5.evaluate(test_X, test_y)\n",
        "\n",
        "df_new = pd.DataFrame(history.history)\n",
        "print(df_new)\n"
      ],
      "execution_count": null,
      "outputs": []
    },
    {
      "cell_type": "markdown",
      "metadata": {
        "id": "ptC6vDVTA6D0"
      },
      "source": [
        "  Improving validation  performance  using  a  mixture  of  batch-normalization  and  dropout  regularization  and  L2  regularization\n"
      ]
    },
    {
      "cell_type": "markdown",
      "metadata": {
        "id": "Kzqtpd7tDJ0q"
      },
      "source": [
        "1  \n",
        "BatchNorm:\n",
        "momentum=0.90,\n",
        "epsilon=0.01  \n",
        "DropRate: 0.1  \n",
        "L2 𝝀: 0.001"
      ]
    },
    {
      "cell_type": "code",
      "metadata": {
        "id": "b-k0c8-kA_Q2"
      },
      "source": [
        "cnn_model_bndol = Sequential([\n",
        "                        Conv2D(filters=6, kernel_size=(5,5), strides = (1,1),padding='valid', activation = 'relu', input_shape=(128,128,3)), # note we need 1 in  input_shape=(28,28,1)\n",
        "                        MaxPooling2D(pool_size=(2,2), strides=(2,2), padding='valid'),\n",
        "                        Conv2D(filters=4, kernel_size=(5,5), strides=(1,1), padding='valid', activation = 'relu'),\n",
        "                        MaxPooling2D(pool_size=(2,2), strides=(2,2), padding='valid'),\n",
        "                        Flatten(), Dense(64, activation = 'relu', kernel_regularizer=tf.keras.regularizers.l2(0.001),\n",
        "                                         kernel_initializer ='glorot_uniform', bias_initializer = 'ones'),\n",
        "                        Dropout(0.1),\n",
        "                        Dense(36, activation = 'relu', kernel_regularizer=tf.keras.regularizers.l2(0.001)),\n",
        "                        BatchNormalization(momentum=0.90,epsilon=0.01),\n",
        "                        Dropout(0.1),\n",
        "                        BatchNormalization(momentum=0.90,epsilon=0.01),\n",
        "                        Dense(1, activation='sigmoid')])\n",
        "\n",
        "cnn_model_bndol.compile(\n",
        "    optimizer = tf.keras.optimizers.Adam(learning_rate = 0.001), \n",
        "    loss = 'binary_crossentropy', \n",
        "    metrics = [tf.keras.metrics.Recall(), 'binary_accuracy'] \n",
        "    )\n",
        "\n",
        "cnn_checkpoint_path_bndol = 'model_checkpoints/checkpoint_bndol'\n",
        "cnn_checkpoint_bndol = ModelCheckpoint(filepath=cnn_checkpoint_path_bndol,\n",
        "                                      save_freq='epoch',\n",
        "                                      save_weights_only=True,\n",
        "                                      save_best_only=True,\n",
        "                                      verbose=1)\n",
        "\n",
        "\n",
        "history = cnn_model_bndol.fit(train_X, train_y, epochs = 15, batch_size = 64, \n",
        "                            verbose = 2, validation_data = (cv_X, cv_y), \n",
        "                            callbacks = [cnn_checkpoint_bndol])\n",
        "\n",
        "# Plot the training and validation accuracy with epoch\n",
        "plt.plot(history.history['binary_accuracy'])\n",
        "plt.plot(history.history['val_binary_accuracy'])\n",
        "plt.title('Accuracy vs. epochs')\n",
        "plt.ylabel('Accuracy')\n",
        "plt.xlabel('Epoch')\n",
        "plt.legend(['Training', 'Validation'], loc='upper right')\n",
        "plt.show()\n",
        "\n",
        "    # Plot the training and validation loss\n",
        "\n",
        "plt.plot(history.history['loss'])\n",
        "plt.plot(history.history['val_loss'])\n",
        "plt.title('Loss vs. epochs')\n",
        "plt.ylabel('Loss')\n",
        "plt.xlabel('Epoch')\n",
        "plt.legend(['Training', 'Validation'], loc='upper right')\n",
        "plt.show()\n",
        "\n",
        "\n",
        "test_loss, test_accuracy, recall = cnn_model_bndol.evaluate(test_X, test_y)\n",
        "\n",
        "df_new = pd.DataFrame(history.history)\n",
        "print(df_new)\n"
      ],
      "execution_count": null,
      "outputs": []
    },
    {
      "cell_type": "markdown",
      "metadata": {
        "id": "-XdABohID7ax"
      },
      "source": [
        "2  \n",
        "BatchNorm:\n",
        "momentum=0.96,\n",
        "epsilon=0.002  \n",
        "DropRate: 0.08  \n",
        "L2 𝝀: 0.003"
      ]
    },
    {
      "cell_type": "code",
      "metadata": {
        "id": "oK-5rs3aD7sm"
      },
      "source": [
        "cnn_model_bndol2 = Sequential([\n",
        "                        Conv2D(filters=6, kernel_size=(5,5), strides = (1,1),padding='valid', activation = 'relu', input_shape=(128,128,3)), # note we need 1 in  input_shape=(28,28,1)\n",
        "                        MaxPooling2D(pool_size=(2,2), strides=(2,2), padding='valid'),\n",
        "                        Conv2D(filters=4, kernel_size=(5,5), strides=(1,1), padding='valid', activation = 'relu'),\n",
        "                        MaxPooling2D(pool_size=(2,2), strides=(2,2), padding='valid'),\n",
        "                        Flatten(), Dense(64, activation = 'relu', kernel_regularizer=tf.keras.regularizers.l2(0.003),\n",
        "                                         kernel_initializer ='glorot_uniform', bias_initializer = 'ones'),\n",
        "                        Dropout(0.08),\n",
        "                        Dense(36, activation = 'relu', kernel_regularizer=tf.keras.regularizers.l2(0.003)),\n",
        "                        BatchNormalization(momentum=0.96, epsilon=0.002),\n",
        "                        Dropout(0.08),\n",
        "                        BatchNormalization(momentum=0.96, epsilon=0.002),\n",
        "                        Dense(1, activation='sigmoid')])\n",
        "\n",
        "cnn_model_bndol2.compile(\n",
        "    optimizer = tf.keras.optimizers.Adam(learning_rate = 0.001), \n",
        "    loss = 'binary_crossentropy', \n",
        "    metrics = [tf.keras.metrics.Recall(), 'binary_accuracy'])\n",
        "\n",
        "cnn_checkpoint_path_bndol2 = 'model_checkpoints/checkpoint_bndol2'\n",
        "cnn_checkpoint_bndol2 = ModelCheckpoint(filepath=cnn_checkpoint_path_bndol2,\n",
        "                                      save_freq='epoch',\n",
        "                                      save_weights_only=True,\n",
        "                                      save_best_only=True,\n",
        "                                      verbose=1)\n",
        "\n",
        "\n",
        "history = cnn_model_bndol2.fit(train_X, train_y, epochs = 15, batch_size = 64, \n",
        "                            verbose = 2, validation_data = (cv_X, cv_y), \n",
        "                            callbacks = [cnn_checkpoint_bndol2])\n",
        "\n",
        "# Plot the training and validation accuracy with epoch\n",
        "plt.plot(history.history['binary_accuracy'])\n",
        "plt.plot(history.history['val_binary_accuracy'])\n",
        "plt.title('Accuracy vs. epochs')\n",
        "plt.ylabel('Accuracy')\n",
        "plt.xlabel('Epoch')\n",
        "plt.legend(['Training', 'Validation'], loc='upper right')\n",
        "plt.show()\n",
        "\n",
        "    # Plot the training and validation loss\n",
        "\n",
        "plt.plot(history.history['loss'])\n",
        "plt.plot(history.history['val_loss'])\n",
        "plt.title('Loss vs. epochs')\n",
        "plt.ylabel('Loss')\n",
        "plt.xlabel('Epoch')\n",
        "plt.legend(['Training', 'Validation'], loc='upper right')\n",
        "plt.show()\n",
        "\n",
        "\n",
        "test_loss, test_accuracy, recall = cnn_model_bndol2.evaluate(test_X, test_y)\n",
        "\n",
        "df_new = pd.DataFrame(history.history)\n",
        "print(df_new)\n"
      ],
      "execution_count": null,
      "outputs": []
    },
    {
      "cell_type": "markdown",
      "metadata": {
        "id": "VhVOSEibEgkl"
      },
      "source": [
        "3  \n",
        "BatchNorm:\n",
        "momentum=0.92,\n",
        "epsilon=0.005  \n",
        "DropRate: 0.06  \n",
        "L2 𝝀: 0.005"
      ]
    },
    {
      "cell_type": "code",
      "metadata": {
        "id": "4zsWofmAEflr"
      },
      "source": [
        "cnn_model_bndol3 = Sequential([\n",
        "                        Conv2D(filters=6, kernel_size=(5,5), strides = (1,1),padding='valid', activation = 'relu', input_shape=(128,128,3)), # note we need 1 in  input_shape=(28,28,1)\n",
        "                        MaxPooling2D(pool_size=(2,2), strides=(2,2), padding='valid'),\n",
        "                        Conv2D(filters=4, kernel_size=(5,5), strides=(1,1), padding='valid', activation = 'relu'),\n",
        "                        MaxPooling2D(pool_size=(2,2), strides=(2,2), padding='valid'),\n",
        "                        Flatten(), Dense(64, activation = 'relu', kernel_regularizer=tf.keras.regularizers.l2(0.005),\n",
        "                                         kernel_initializer ='glorot_uniform', bias_initializer = 'ones'),\n",
        "                        Dropout(0.06),\n",
        "                        Dense(36, activation = 'relu', kernel_regularizer=tf.keras.regularizers.l2(0.005)),\n",
        "                        BatchNormalization(momentum=0.92, epsilon=0.005),\n",
        "                        Dropout(0.06),\n",
        "                        BatchNormalization(momentum=0.92, epsilon=0.005),\n",
        "                        Dense(1, activation='sigmoid')])\n",
        "\n",
        "cnn_model_bndol3.compile(\n",
        "    optimizer = tf.keras.optimizers.Adam(learning_rate = 0.001), \n",
        "    loss = 'binary_crossentropy', \n",
        "    metrics = [tf.keras.metrics.Recall(), 'binary_accuracy'])\n",
        "\n",
        "cnn_checkpoint_path_bndol3 = 'model_checkpoints/checkpoint_bndol3'\n",
        "cnn_checkpoint_bndol3 = ModelCheckpoint(filepath=cnn_checkpoint_path_bndol3,\n",
        "                                      save_freq='epoch',\n",
        "                                      save_weights_only=True,\n",
        "                                      save_best_only=True,\n",
        "                                      verbose=1)\n",
        "\n",
        "\n",
        "history = cnn_model_bndol3.fit(train_X, train_y, epochs = 15, batch_size = 64, \n",
        "                            verbose = 2, validation_data = (cv_X, cv_y), \n",
        "                            callbacks = [cnn_checkpoint_bndol3])\n",
        "\n",
        "# Plot the training and validation accuracy with epoch\n",
        "plt.plot(history.history['binary_accuracy'])\n",
        "plt.plot(history.history['val_binary_accuracy'])\n",
        "plt.title('Accuracy vs. epochs')\n",
        "plt.ylabel('Accuracy')\n",
        "plt.xlabel('Epoch')\n",
        "plt.legend(['Training', 'Validation'], loc='upper right')\n",
        "plt.show()\n",
        "\n",
        "    # Plot the training and validation loss\n",
        "\n",
        "plt.plot(history.history['loss'])\n",
        "plt.plot(history.history['val_loss'])\n",
        "plt.title('Loss vs. epochs')\n",
        "plt.ylabel('Loss')\n",
        "plt.xlabel('Epoch')\n",
        "plt.legend(['Training', 'Validation'], loc='upper right')\n",
        "plt.show()\n",
        "\n",
        "\n",
        "test_loss, test_accuracy, recall = cnn_model_bndol3.evaluate(test_X, test_y)\n",
        "\n",
        "df_new = pd.DataFrame(history.history)\n",
        "print(df_new)\n"
      ],
      "execution_count": null,
      "outputs": []
    },
    {
      "cell_type": "markdown",
      "metadata": {
        "id": "_b8pQJ8SE7rh"
      },
      "source": [
        "4  \n",
        "BatchNorm: momentum=0.90, epsilon=0.006  \n",
        "DropRate: 0.04  \n",
        "L2 𝝀: 0.007"
      ]
    },
    {
      "cell_type": "code",
      "metadata": {
        "id": "AOa5UlocE5Mv"
      },
      "source": [
        "cnn_model_bndol4 = Sequential([\n",
        "                        Conv2D(filters=6, kernel_size=(5,5), strides = (1,1),padding='valid', activation = 'relu', input_shape=(128,128,3)), # note we need 1 in  input_shape=(28,28,1)\n",
        "                        MaxPooling2D(pool_size=(2,2), strides=(2,2), padding='valid'),\n",
        "                        Conv2D(filters=4, kernel_size=(5,5), strides=(1,1), padding='valid', activation = 'relu'),\n",
        "                        MaxPooling2D(pool_size=(2,2), strides=(2,2), padding='valid'),\n",
        "                        Flatten(), Dense(64, activation = 'relu', kernel_regularizer=tf.keras.regularizers.l2(0.007),\n",
        "                                         kernel_initializer ='glorot_uniform', bias_initializer = 'ones'),\n",
        "                        Dropout(0.04),\n",
        "                        Dense(36, activation = 'relu', kernel_regularizer=tf.keras.regularizers.l2(0.007)),\n",
        "                        BatchNormalization(momentum=0.90, epsilon=0.006),\n",
        "                        Dropout(0.04),\n",
        "                        BatchNormalization(momentum=0.90, epsilon=0.006),\n",
        "                        Dense(1, activation='sigmoid')])\n",
        "\n",
        "cnn_model_bndol4.compile(\n",
        "    optimizer = tf.keras.optimizers.Adam(learning_rate = 0.001), \n",
        "    loss = 'binary_crossentropy', metrics = [tf.keras.metrics.Recall(), 'binary_accuracy'])\n",
        "\n",
        "cnn_checkpoint_path_bndol4 = 'model_checkpoints/checkpoint_bndol4'\n",
        "cnn_checkpoint_bndol4 = ModelCheckpoint(filepath=cnn_checkpoint_path_bndol4,\n",
        "                                      save_freq='epoch', save_weights_only=True,\n",
        "                                      save_best_only=True, verbose=1)\n",
        "\n",
        "history = cnn_model_bndol4.fit(train_X, train_y, epochs = 15, batch_size = 64, verbose = 2, validation_data = (cv_X, cv_y), \n",
        "                            callbacks = [cnn_checkpoint_bndol4])\n",
        "\n",
        "# Plot the training and validation accuracy with epoch\n",
        "plt.plot(history.history['binary_accuracy'])\n",
        "plt.plot(history.history['val_binary_accuracy'])\n",
        "plt.title('Accuracy vs. epochs')\n",
        "plt.ylabel('Accuracy')\n",
        "plt.xlabel('Epoch')\n",
        "plt.legend(['Training', 'Validation'], loc='upper right')\n",
        "plt.show()\n",
        "\n",
        "    # Plot the training and validation loss\n",
        "\n",
        "plt.plot(history.history['loss'])\n",
        "plt.plot(history.history['val_loss'])\n",
        "plt.title('Loss vs. epochs')\n",
        "plt.ylabel('Loss')\n",
        "plt.xlabel('Epoch')\n",
        "plt.legend(['Training', 'Validation'], loc='upper right')\n",
        "plt.show()\n",
        "\n",
        "\n",
        "test_loss, test_accuracy, recall = cnn_model_bndol4.evaluate(test_X, test_y)\n",
        "\n",
        "df_new = pd.DataFrame(history.history)\n",
        "print(df_new)\n"
      ],
      "execution_count": null,
      "outputs": []
    },
    {
      "cell_type": "markdown",
      "metadata": {
        "id": "WeydkTdSFV47"
      },
      "source": [
        "5  \n",
        "BatchNorm: momentum=0.70, epsilon=0.1  \n",
        "DropRate:0.3  \n",
        "L2 𝝀: 0.009"
      ]
    },
    {
      "cell_type": "code",
      "metadata": {
        "id": "MhVvtORkFUzZ"
      },
      "source": [
        "cnn_model_bndol5 = Sequential([\n",
        "                        Conv2D(filters=6, kernel_size=(5,5), strides = (1,1),padding='valid', activation = 'relu', input_shape=(128,128,3)), # note we need 1 in  input_shape=(28,28,1)\n",
        "                        MaxPooling2D(pool_size=(2,2), strides=(2,2), padding='valid'),\n",
        "                        Conv2D(filters=4, kernel_size=(5,5), strides=(1,1), padding='valid', activation = 'relu'),\n",
        "                        MaxPooling2D(pool_size=(2,2), strides=(2,2), padding='valid'),\n",
        "                        Flatten(), Dense(64, activation = 'relu', kernel_regularizer=tf.keras.regularizers.l2(0.009),\n",
        "                                         kernel_initializer ='glorot_uniform', bias_initializer = 'ones'),\n",
        "                        Dropout(0.3),\n",
        "                        Dense(36, activation = 'relu', kernel_regularizer=tf.keras.regularizers.l2(0.009)),\n",
        "                        BatchNormalization(momentum=0.70, epsilon=0.1),\n",
        "                        Dropout(0.3),\n",
        "                        BatchNormalization(momentum=0.70, epsilon=0.1),\n",
        "                        Dense(1, activation='sigmoid')])\n",
        "\n",
        "cnn_model_bndol5.compile(\n",
        "    optimizer = tf.keras.optimizers.Adam(learning_rate = 0.001), \n",
        "    loss = 'binary_crossentropy', metrics = [tf.keras.metrics.Recall(), 'binary_accuracy'])\n",
        "\n",
        "cnn_checkpoint_path_bndol5 = 'model_checkpoints/checkpoint_bndol5'\n",
        "cnn_checkpoint_bndol5 = ModelCheckpoint(filepath=cnn_checkpoint_path_bndol5,\n",
        "                                      save_freq='epoch', save_weights_only=True,\n",
        "                                      save_best_only=True, verbose=1)\n",
        "\n",
        "history = cnn_model_bndol5.fit(train_X, train_y, epochs = 15, batch_size = 64, verbose = 2, validation_data = (cv_X, cv_y), \n",
        "                            callbacks = [cnn_checkpoint_bndol5])\n",
        "\n",
        "# Plot the training and validation accuracy with epoch\n",
        "plt.plot(history.history['binary_accuracy'])\n",
        "plt.plot(history.history['val_binary_accuracy'])\n",
        "plt.title('Accuracy vs. epochs')\n",
        "plt.ylabel('Accuracy')\n",
        "plt.xlabel('Epoch')\n",
        "plt.legend(['Training', 'Validation'], loc='upper right')\n",
        "plt.show()\n",
        "\n",
        "    # Plot the training and validation loss\n",
        "\n",
        "plt.plot(history.history['loss'])\n",
        "plt.plot(history.history['val_loss'])\n",
        "plt.title('Loss vs. epochs')\n",
        "plt.ylabel('Loss')\n",
        "plt.xlabel('Epoch')\n",
        "plt.legend(['Training', 'Validation'], loc='upper right')\n",
        "plt.show()\n",
        "\n",
        "\n",
        "test_loss, test_accuracy, recall = cnn_model_bndol5.evaluate(test_X, test_y)\n",
        "\n",
        "df_new = pd.DataFrame(history.history)\n",
        "print(df_new)\n"
      ],
      "execution_count": null,
      "outputs": []
    },
    {
      "cell_type": "markdown",
      "metadata": {
        "id": "IR_m5s8Md6fQ"
      },
      "source": [
        "While some models (like model 19) did provide a 100% accuracy and recall, there was visible \n",
        "Gap in the training and validation accuracies and loss among the two sets.  Whereas for model4\n",
        "From part 2g it is a more stable fit, giving  us an accuracy and recall stable across train, validation\n",
        "And the test set. We feel the dropout rate and L2 regularization with 0.90 momentum and\n",
        "0.006 epsilon is removing some overfitting issues which were contributing towards 100% accuracy.\n",
        "\n",
        "Overall, this model fit can be applied in real world scenarios without overfitting issues to \n",
        "Achieve consistent results.\n",
        "\n",
        "\n"
      ]
    }
  ]
}